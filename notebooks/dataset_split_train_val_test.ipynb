{
 "cells": [
  {
   "cell_type": "markdown",
   "id": "e93846eb-940b-42e0-8305-7ed9760218bf",
   "metadata": {
    "tags": []
   },
   "source": [
    "### How to split the dataset?\n",
    "\n",
    "- Total: 6338  samples age = 15.0 - 31.0\n",
    "- Allowed: 5000  samples"
   ]
  },
  {
   "cell_type": "code",
   "execution_count": null,
   "id": "7755297b-400e-48c8-9aa0-36bae10d3f1c",
   "metadata": {},
   "outputs": [],
   "source": [
    "from   ipywidgets import interactive, fixed\n",
    "import numpy as np\n",
    "import matplotlib.pyplot as plt\n",
    "import pandas as pd\n",
    "import random\n",
    "import seaborn as sns"
   ]
  },
  {
   "cell_type": "code",
   "execution_count": null,
   "id": "94c0d39f-e5f0-45c6-851b-8a976d50bc11",
   "metadata": {},
   "outputs": [],
   "source": [
    "random.seed(0)\n",
    "np.random.seed(0)"
   ]
  },
  {
   "cell_type": "markdown",
   "id": "c2dd78a7-5261-428a-9e97-687a7be3d751",
   "metadata": {},
   "source": [
    "### Settings"
   ]
  },
  {
   "cell_type": "code",
   "execution_count": null,
   "id": "b7cd7ab2-2930-4fac-8711-f350f908c308",
   "metadata": {},
   "outputs": [],
   "source": [
    "# WARNING: Do NOT set these variables to TRUE unless you want to create a fresh train/test split\n",
    "SAVE_TRAIN_SET = False\n",
    "SAVE_VALID_SET = False\n",
    "SAVE_TEST_SET  = False"
   ]
  },
  {
   "cell_type": "code",
   "execution_count": null,
   "id": "c85ccc65-ef77-46e5-9e34-91e2f64f17e9",
   "metadata": {},
   "outputs": [],
   "source": [
    "ANNOTATIONS_ALL_CSV   = '../metadata/annotations_all.csv'\n",
    "ANNOTATIONS_TRAIN_CSV = '../metadata/annotations_train.csv'\n",
    "ANNOTATIONS_VALID_CSV = '../metadata/annotations_valid.csv'\n",
    "ANNOTATIONS_TEST_CSV  = '../metadata/annotations_test.csv'"
   ]
  },
  {
   "cell_type": "code",
   "execution_count": null,
   "id": "7086c79d-8399-4ae2-871d-220a2eed9dc1",
   "metadata": {},
   "outputs": [],
   "source": [
    "bins = np.linspace(start=15.0, stop=30.0, num=16, endpoint=True, dtype=np.int32)\n",
    "bins"
   ]
  },
  {
   "cell_type": "code",
   "execution_count": null,
   "id": "bd9709a6-ba22-44be-8790-095386a1212d",
   "metadata": {},
   "outputs": [],
   "source": [
    "df_annotations = pd.read_csv(ANNOTATIONS_ALL_CSV)\n",
    "\n",
    "df_annotations['age_years'] = df_annotations['age'].to_numpy() / 365.25\n",
    "df_annotations['age_bin']   = np.digitize(df_annotations['age_years'].to_numpy(), bins)\n",
    "\n",
    "patient = [x.split('/')[-1].replace('.npy','').split('_')[1] for x in df_annotations['image'].to_list()]\n",
    "study   = [x.split('/')[-1].replace('.npy','').split('_')[2] for x in df_annotations['image'].to_list()]\n",
    "series  = [x.split('/')[-1].replace('.npy','').split('_')[3] for x in df_annotations['image'].to_list()]\n",
    "\n",
    "df_annotations['patient'] = patient\n",
    "df_annotations['study']   = study\n",
    "df_annotations['series']  = series\n",
    "\n",
    "n_patient_images = []\n",
    "for patient_ in df_annotations['patient'].to_list():\n",
    "    df_patient        = df_annotations.iloc[np.where(df_annotations['patient']==patient_)[0]]\n",
    "    n_images          = df_patient.shape[0]\n",
    "    n_patient_images.append(n_images)\n",
    "df_annotations['n_patient_images'] = n_patient_images\n",
    "\n",
    "df_annotations"
   ]
  },
  {
   "cell_type": "markdown",
   "id": "13c9b44b-7df2-4aaf-bb89-37bff854dabc",
   "metadata": {},
   "source": [
    "### Remove people older than 30.0 years\n",
    "In other words: Include only 15 to 29 year olds"
   ]
  },
  {
   "cell_type": "code",
   "execution_count": null,
   "id": "aad7f8cb-3aed-4019-99ba-a0ab5fd797a9",
   "metadata": {},
   "outputs": [],
   "source": [
    "df_annotations_29 = df_annotations.iloc[np.where(df_annotations['age_years']<(30.0))[0]]\n",
    "df_annotations_29 = df_annotations_29.reset_index(drop=True)\n",
    "df_annotations_29"
   ]
  },
  {
   "cell_type": "code",
   "execution_count": null,
   "id": "93430a2e",
   "metadata": {},
   "outputs": [],
   "source": [
    "print('Number of patients between age 15.0 and 30.0 years: {:d}'.format(np.unique(df_annotations_29['patient']).shape[0]))"
   ]
  },
  {
   "cell_type": "code",
   "execution_count": null,
   "id": "5142f1d8-69c7-48ca-9f00-3a94acfa1920",
   "metadata": {},
   "outputs": [],
   "source": [
    "df_anntotations_male   = df_annotations_29.iloc[np.where(df_annotations_29['sex']=='M')[0]]\n",
    "df_anntotations_female = df_annotations_29.iloc[np.where(df_annotations_29['sex']=='F')[0]]\n",
    "\n",
    "df_anntotations_male   = df_anntotations_male.reset_index(drop=True)\n",
    "df_anntotations_female = df_anntotations_female.reset_index(drop=True)"
   ]
  },
  {
   "cell_type": "code",
   "execution_count": null,
   "id": "e539a0ed-e9c9-480f-8358-ee221eee2998",
   "metadata": {},
   "outputs": [],
   "source": [
    "fig, ax = plt.subplots(1, 2, figsize=(14,7))\n",
    "\n",
    "sns.histplot(data=df_annotations_29, x='age_years', bins=bins, ax=ax[0])\n",
    "ax[0].set_ylim(0,620)\n",
    "ax[0].tick_params(labelsize=14)\n",
    "ax[0].set_xlabel('age / (years)', fontsize=16)\n",
    "ax[0].set_ylabel('count', fontsize=16)\n",
    "ax[0].set_title('male and female combined', fontsize=16)\n",
    "\n",
    "gfg = sns.histplot(data=df_annotations_29, x='age_years', hue='sex', bins=bins, multiple='dodge', ax=ax[1])\n",
    "ax[1].set_ylim(0,620)\n",
    "ax[1].tick_params(labelsize=14)\n",
    "ax[1].set_xlabel('age / (years)', fontsize=16)\n",
    "ax[1].set_ylabel('count', fontsize=16)\n",
    "ax[1].set_title('male and female side-by-side', fontsize=16)\n",
    "plt.setp(gfg.get_legend().get_title(), fontsize='14')\n",
    "plt.setp(gfg.get_legend().get_texts(), fontsize='14')\n",
    "\n",
    "plt.suptitle('Age Distribution in Age Range [15.0,30.0]', fontsize=18)\n",
    "\n",
    "plt.savefig('../results/age_dist_15_30_n5718.png')\n",
    "plt.show()"
   ]
  },
  {
   "cell_type": "markdown",
   "id": "b1552828-0208-4b30-a4a6-80535370607a",
   "metadata": {},
   "source": [
    "### Reduce dataset to 5000 samples by removing persons with high age values"
   ]
  },
  {
   "cell_type": "code",
   "execution_count": null,
   "id": "1be6f67e-423d-4a63-a8dc-cc73ecb13e4c",
   "metadata": {},
   "outputs": [],
   "source": [
    "df_annotations_5000 = df_annotations_29.copy(deep=True)\n",
    "df_annotations_5000"
   ]
  },
  {
   "cell_type": "code",
   "execution_count": null,
   "id": "7091bb0d-1480-4edc-898b-fe1e0310823f",
   "metadata": {},
   "outputs": [],
   "source": [
    "while(df_annotations_5000.shape[0]>5000):\n",
    "\n",
    "    # Identify the age bin with the most samples\n",
    "    _, bin_counts      = np.unique(df_annotations_5000['age_bin'].to_numpy(), return_counts=True)\n",
    "    most_populated_bin = np.argmax(bin_counts)+1 # np.digitze() starts bins at 1\n",
    "\n",
    "    # Create a temporary dataframe for samples from that bin\n",
    "    df_most_populated_bin = df_annotations_5000[df_annotations_5000['age_bin'].isin([most_populated_bin])]\n",
    "    \n",
    "    # Drop samples with the least frequent sex\n",
    "    sexes, sex_counts     = np.unique(df_most_populated_bin['sex'].to_numpy(), return_counts=True)\n",
    "    least_frequent_sex    = sexes[np.argmin(sex_counts)]\n",
    "    df_most_populated_bin = df_most_populated_bin[~df_most_populated_bin['sex'].isin([least_frequent_sex])]\n",
    "    \n",
    "    # Keep only patients with the highest number of images\n",
    "    max_n_patient_images  = np.max(df_most_populated_bin['n_patient_images'].to_numpy())\n",
    "    df_most_populated_bin = df_most_populated_bin[df_most_populated_bin['n_patient_images'].isin([max_n_patient_images])]\n",
    "\n",
    "    # Randomly select an image to drop from the overall dataframe\n",
    "    images_most_populated_bin = df_most_populated_bin['image'].to_numpy()\n",
    "    image_to_drop = np.random.choice(images_most_populated_bin, size=1, replace=False)[0]\n",
    "\n",
    "    # Drop the image\n",
    "    df_annotations_5000 = df_annotations_5000[~df_annotations_5000['image'].isin([image_to_drop])]\n",
    "    df_annotations_5000 = df_annotations_5000.reset_index(drop=True)\n",
    "    \n",
    "df_annotations_5000"
   ]
  },
  {
   "cell_type": "code",
   "execution_count": null,
   "id": "4540aacb-73f4-49b2-a398-f464d370ae94",
   "metadata": {},
   "outputs": [],
   "source": [
    "fig, ax = plt.subplots(1, 2, figsize=(14,7))\n",
    "\n",
    "sns.histplot(data=df_annotations_5000, x='age_years', bins=bins, ax=ax[0])\n",
    "ax[0].set_ylim(0,400)\n",
    "ax[0].tick_params(labelsize=14)\n",
    "ax[0].set_xlabel('age / (years)', fontsize=16)\n",
    "ax[0].set_ylabel('count', fontsize=16)\n",
    "ax[0].set_title('male and female combined', fontsize=16)\n",
    "\n",
    "gfg = sns.histplot(data=df_annotations_5000, x='age_years', hue='sex', bins=bins, multiple='dodge', ax=ax[1])\n",
    "ax[1].set_ylim(0,400)\n",
    "ax[1].tick_params(labelsize=14)\n",
    "ax[1].set_xlabel('age / (years)', fontsize=16)\n",
    "ax[1].set_ylabel('count', fontsize=16)\n",
    "ax[1].set_title('male and female side-by-side', fontsize=16)\n",
    "plt.setp(gfg.get_legend().get_title(), fontsize='14')\n",
    "plt.setp(gfg.get_legend().get_texts(), fontsize='14')\n",
    "\n",
    "plt.suptitle('Age Distribution in Age Range [15.0,30.0]', fontsize=18)\n",
    "\n",
    "plt.savefig('results/age_dist_5000.png')\n",
    "plt.show()"
   ]
  },
  {
   "cell_type": "markdown",
   "id": "1667a287-986b-40cf-9212-e53d9b5a807b",
   "metadata": {
    "tags": []
   },
   "source": [
    "### Create test set and validation sets\n",
    "\n",
    "We are only allowed to analyze 5000 images, so we need to get rid of some images.\n",
    "\n",
    "However, we also want a very high quality test set, so we first sample that and then remove some images for the training set.\n",
    "\n",
    "The criteria for the test set are:\n",
    "- Only one image per person is allowed in the test set\n",
    "- if a person is already part of the test set, additional images of that patient (which may exist) cannot be part of training and validation set\n",
    "- Each age bin has the same number of images\n",
    "- The male female distribution in each age bin is 50:50"
   ]
  },
  {
   "cell_type": "markdown",
   "id": "ce0b7a04-270b-4b18-b865-c2da8576aa04",
   "metadata": {},
   "source": [
    "#### Find persons whith only 1 image\n",
    "\n",
    "This subset will be used to create the test set. Otherwise we would waste too much precious data. For example, if we include an image of a person with 12 images in total in the test set, 11 images will be thrown away. A person can only appear in either the test set or the training set. And in the test set we on"
   ]
  },
  {
   "cell_type": "code",
   "execution_count": null,
   "id": "8e7fabda-3b30-4f22-93c7-53c1f1eb4605",
   "metadata": {},
   "outputs": [],
   "source": [
    "df_single_image        = df_annotations_5000.iloc[np.where(df_annotations_5000['n_patient_images']==1)[0]]\n",
    "df_single_image_male   = df_single_image.iloc[np.where(df_single_image['sex']=='M')[0]]\n",
    "df_single_image_female = df_single_image.iloc[np.where(df_single_image['sex']=='F')[0]]\n",
    "\n",
    "df_single_image        = df_single_image.reset_index(drop=True)\n",
    "df_single_image_male   = df_single_image_male.reset_index(drop=True)\n",
    "df_single_image_female = df_single_image_female.reset_index(drop=True)"
   ]
  },
  {
   "cell_type": "code",
   "execution_count": null,
   "id": "8ecf0a04-4a3d-45bf-8379-a573ec763196",
   "metadata": {
    "tags": []
   },
   "outputs": [],
   "source": [
    "fig, ax = plt.subplots(1, 2, figsize=(14,7))\n",
    "\n",
    "sns.histplot(df_single_image['age_years'], bins=bins, ax=ax[0])\n",
    "ax[0].set_ylim(0,180)\n",
    "ax[0].tick_params(labelsize=14)\n",
    "ax[0].set_xlabel('age / (years)', fontsize=16)\n",
    "ax[0].set_ylabel('count', fontsize=16)\n",
    "ax[0].set_title('male and female combined', fontsize=16)\n",
    "\n",
    "gfg = sns.histplot(data=df_single_image, x='age_years', hue='sex', bins=bins, multiple='dodge', ax=ax[1])\n",
    "ax[1].set_ylim(0,180)\n",
    "ax[1].tick_params(labelsize=14)\n",
    "ax[1].set_xlabel('age / (years)', fontsize=16)\n",
    "ax[1].set_ylabel('count', fontsize=16)\n",
    "ax[1].set_title('male and female side-by-side', fontsize=16)\n",
    "plt.setp(gfg.get_legend().get_title(), fontsize='14')\n",
    "plt.setp(gfg.get_legend().get_texts(), fontsize='14')\n",
    "\n",
    "plt.suptitle('Age Distribution for Persons with Only One Image', fontsize=18)\n",
    "\n",
    "plt.savefig('results/age_dist_single_image.png')\n",
    "plt.show()"
   ]
  },
  {
   "cell_type": "markdown",
   "id": "6bf29a6b-82f2-4c68-bf11-4c76dbe081be",
   "metadata": {},
   "source": [
    "#### Find the least populated bin for each sex\n",
    "\n",
    "The least populated bin determines the size of the validation set and test set:\n",
    "\n",
    "- n_samples_bin >= validation_set_size + training_set_size"
   ]
  },
  {
   "cell_type": "code",
   "execution_count": null,
   "id": "bc357d06-f017-4e37-93df-cec1b6aea7fb",
   "metadata": {},
   "outputs": [],
   "source": [
    "_, counts_m = np.unique(df_single_image_male['age_bin'].to_numpy(), return_counts=True)\n",
    "lowest_count_m         = np.amin(counts_m)\n",
    "age_bin_lowest_count_m = bins[np.argmin(counts_m)]\n",
    "\n",
    "_, counts_f = np.unique(df_single_image_female['age_bin'].to_numpy(), return_counts=True)\n",
    "lowest_count_f         = np.amin(counts_f)\n",
    "age_bin_lowest_count_f = bins[np.argmin(counts_f)]\n",
    "\n",
    "print('For male persons with 1 image the bin [{:.1f},{:.1f}] is the least populated bin with {:d} samples'.format(age_bin_lowest_count_m, age_bin_lowest_count_m+1, lowest_count_m))\n",
    "print('For female persons with 1 image the bin [{:.1f},{:.1f}] is the least populated bin with {:d} samples'.format(age_bin_lowest_count_f, age_bin_lowest_count_f+1, lowest_count_f))\n",
    "\n",
    "lowest_count = np.min([lowest_count_m, lowest_count_f])\n",
    "print('\\nLargest possible number of samples per age and sex bin: {:d}'.format(np.int32(lowest_count/2.0)))"
   ]
  },
  {
   "cell_type": "markdown",
   "id": "ca0e9d88-b5d3-42ff-8593-b6bb85e7faa5",
   "metadata": {},
   "source": [
    "#### Randomly sample validation set and test set"
   ]
  },
  {
   "cell_type": "code",
   "execution_count": null,
   "id": "f301f05d-bfd6-4478-bc7b-c03902394d89",
   "metadata": {},
   "outputs": [],
   "source": [
    "images_valid = []\n",
    "images_test  = []\n",
    "\n",
    "# Define bin size\n",
    "# Data is binned with respect to age and sex, e.g. all 21 year old males are in one bin, all 17 year old females are in another\n",
    "valid_set_bin_size = 10\n",
    "test_set_bin_size  = 10\n",
    "\n",
    "for bin_id in np.linspace(start=1, stop=len(bins), num=len(bins)-1, endpoint=False, dtype=np.int32):\n",
    "    \n",
    "    # Identify patients in the current age bin\n",
    "    pats_m_bin = np.where(df_single_image_male['age_bin']==bin_id)[0]\n",
    "    pats_f_bin = np.where(df_single_image_female['age_bin']==bin_id)[0]\n",
    "    \n",
    "    # Randomly sample the patients for both validation set and test set\n",
    "    pats_m_bin = np.random.choice(pats_m_bin, size=test_set_bin_size+valid_set_bin_size, replace=False)\n",
    "    pats_f_bin = np.random.choice(pats_f_bin, size=test_set_bin_size+valid_set_bin_size, replace=False)\n",
    "    \n",
    "    # Get image IDs of the sampled patients\n",
    "    df_m_bin = df_single_image_male.loc[pats_m_bin]\n",
    "    df_f_bin = df_single_image_female.loc[pats_f_bin]\n",
    "    \n",
    "    images_m = df_m_bin['image'].to_list()\n",
    "    images_f = df_f_bin['image'].to_list()\n",
    "    \n",
    "    # Split images into validation set and test set\n",
    "    images_m_valid = images_m[:valid_set_bin_size]\n",
    "    images_m_test  = images_m[test_set_bin_size:]\n",
    "    \n",
    "    images_f_valid = images_f[:valid_set_bin_size]\n",
    "    images_f_test  = images_f[test_set_bin_size:]\n",
    "    \n",
    "    # Append images for the current age to the list of validation set or test set images\n",
    "    images_valid.extend(images_m_valid)\n",
    "    images_valid.extend(images_f_valid)\n",
    "    \n",
    "    images_test.extend(images_m_test)\n",
    "    images_test.extend(images_f_test)"
   ]
  },
  {
   "cell_type": "markdown",
   "id": "b3f1bbeb-fee5-4348-9f98-339df1683e55",
   "metadata": {},
   "source": [
    "#### Validation set"
   ]
  },
  {
   "cell_type": "code",
   "execution_count": null,
   "id": "062930da-6a82-444b-be7d-f77ac98dc7bb",
   "metadata": {},
   "outputs": [],
   "source": [
    "df_valid = df_annotations_5000[df_annotations_5000['image'].isin(images_valid)]\n",
    "df_valid = df_valid.reset_index(drop=True)\n",
    "df_valid = df_valid.drop(columns=['age_years','age_bin','patient','study','series','n_patient_images'])\n",
    "\n",
    "if SAVE_VALID_SET:\n",
    "    df_valid.to_csv(ANNOTATIONS_VALID_CSV, index=False)\n",
    "\n",
    "df_valid"
   ]
  },
  {
   "cell_type": "code",
   "execution_count": null,
   "id": "db6d9712-5bef-495d-9e3c-7be7e2299f8c",
   "metadata": {},
   "outputs": [],
   "source": [
    "df_test = df_annotations_5000[df_annotations_5000['image'].isin(images_test)]\n",
    "df_test = df_test.reset_index(drop=True)\n",
    "df_test = df_test.drop(columns=['age_years','age_bin','patient','study','series','n_patient_images'])\n",
    "\n",
    "if SAVE_TEST_SET:\n",
    "    df_test.to_csv(ANNOTATIONS_TEST_CSV, index=False)\n",
    "\n",
    "df_test"
   ]
  },
  {
   "cell_type": "code",
   "execution_count": null,
   "id": "0cbda919-5656-4786-8cb2-442c1f07535d",
   "metadata": {},
   "outputs": [],
   "source": [
    "fig, ax = plt.subplots(1, 2, figsize=(14,7))\n",
    "\n",
    "sns.histplot(df_valid['age'], binwidth=365.25, binrange=[15*365.25,30*365.25], ax=ax[0])\n",
    "ax[0].set_ylim(0,21)\n",
    "ax[0].tick_params(labelsize=14)\n",
    "ax[0].set_xlabel('age / (days)', fontsize=16)\n",
    "ax[0].set_ylabel('count', fontsize=16)\n",
    "\n",
    "gfg = sns.histplot(data=df_valid, x='age', hue='sex', binwidth=365.25, binrange=[15*365.25,30*365.25], multiple='dodge', ax=ax[1])\n",
    "ax[1].set_ylim(0,21)\n",
    "ax[1].tick_params(labelsize=14)\n",
    "ax[1].set_xlabel('age / (days)', fontsize=16)\n",
    "ax[1].set_ylabel('count', fontsize=16)\n",
    "ax[1].set_title('male and female side-by-side', fontsize=16)\n",
    "plt.setp(gfg.get_legend().get_title(), fontsize='14')\n",
    "plt.setp(gfg.get_legend().get_texts(), fontsize='14')\n",
    "\n",
    "plt.suptitle('Age Distribution in Validation Set', fontsize=18)\n",
    "\n",
    "plt.savefig('results/age_dist_valid_set.png')\n",
    "plt.show()\n",
    "\n",
    "fig, ax = plt.subplots(1, 2, figsize=(14,7))\n",
    "\n",
    "sns.histplot(df_test['age'], binwidth=365.25, binrange=[15*365.25,30*365.25], ax=ax[0])\n",
    "ax[0].set_ylim(0,21)\n",
    "ax[0].tick_params(labelsize=14)\n",
    "ax[0].set_xlabel('age / (days)', fontsize=16)\n",
    "ax[0].set_ylabel('count', fontsize=16)\n",
    "\n",
    "gfg = sns.histplot(data=df_test, x='age', hue='sex', binwidth=365.25, binrange=[15*365.25,30*365.25], multiple='dodge', ax=ax[1])\n",
    "ax[1].set_ylim(0,21)\n",
    "ax[1].tick_params(labelsize=14)\n",
    "ax[1].set_xlabel('age / (days)', fontsize=16)\n",
    "ax[1].set_ylabel('count', fontsize=16)\n",
    "ax[1].set_title('male and female side-by-side', fontsize=16)\n",
    "plt.setp(gfg.get_legend().get_title(), fontsize='14')\n",
    "plt.setp(gfg.get_legend().get_texts(), fontsize='14')\n",
    "\n",
    "plt.suptitle('Age Distribution in Test Set', fontsize=18)\n",
    "\n",
    "plt.savefig('results/age_dist_test_set.png')\n",
    "plt.show()"
   ]
  },
  {
   "cell_type": "markdown",
   "id": "756cb099-73a6-410b-bc4e-42030d9bb5e7",
   "metadata": {},
   "source": [
    "### Create training set\n",
    "\n",
    "The training set contains the remaining samples which are not part of the test set or the validation set"
   ]
  },
  {
   "cell_type": "code",
   "execution_count": null,
   "id": "8823c812-a101-4c37-a3c5-f7c9cd03e3d2",
   "metadata": {},
   "outputs": [],
   "source": [
    "images_valid_or_test = images_valid + images_test\n",
    "\n",
    "df_train = df_annotations_5000[~df_annotations_5000['image'].isin(images_valid_or_test)]\n",
    "df_train = df_train.reset_index(drop=True)\n",
    "df_train = df_train.drop(columns=['age_years','age_bin','patient','study','series','n_patient_images'])\n",
    "\n",
    "if SAVE_TRAIN_SET:\n",
    "    df_train.to_csv(ANNOTATIONS_TRAIN_CSV, index=False)\n",
    "\n",
    "df_train"
   ]
  },
  {
   "cell_type": "code",
   "execution_count": null,
   "id": "8bd2e2ff-5214-4579-a53d-8ee73a57af46",
   "metadata": {},
   "outputs": [],
   "source": [
    "fig, ax = plt.subplots(1, 2, figsize=(14,7))\n",
    "\n",
    "sns.histplot(df_train['age'], binwidth=365.25, binrange=[15*365.25,30*365.25], ax=ax[0])\n",
    "ax[0].set_ylim(0,370)\n",
    "ax[0].tick_params(labelsize=14)\n",
    "ax[0].set_xlabel('age / (days)', fontsize=16)\n",
    "ax[0].set_ylabel('count', fontsize=16)\n",
    "\n",
    "gfg = sns.histplot(data=df_train, x='age', hue='sex', binwidth=365.25, binrange=[15*365.25,30*365.25], multiple='dodge', ax=ax[1])\n",
    "ax[1].set_ylim(0,370)\n",
    "ax[1].tick_params(labelsize=14)\n",
    "ax[1].set_xlabel('age / (days)', fontsize=16)\n",
    "ax[1].set_ylabel('count', fontsize=16)\n",
    "ax[1].set_title('male and female side-by-side', fontsize=16)\n",
    "plt.setp(gfg.get_legend().get_title(), fontsize='14')\n",
    "plt.setp(gfg.get_legend().get_texts(), fontsize='14')\n",
    "\n",
    "plt.suptitle('Age Distribution in Training Set', fontsize=18)\n",
    "\n",
    "plt.savefig('results/age_dist_train_set.png')\n",
    "plt.show()"
   ]
  }
 ],
 "metadata": {
  "kernelspec": {
   "display_name": "Python 3",
   "language": "python",
   "name": "python3"
  },
  "language_info": {
   "codemirror_mode": {
    "name": "ipython",
    "version": 3
   },
   "file_extension": ".py",
   "mimetype": "text/x-python",
   "name": "python",
   "nbconvert_exporter": "python",
   "pygments_lexer": "ipython3",
   "version": "3.8.10"
  },
  "vscode": {
   "interpreter": {
    "hash": "916dbcbb3f70747c44a77c7bcd40155683ae19c65e1c03b4aa3499c5328201f1"
   }
  }
 },
 "nbformat": 4,
 "nbformat_minor": 5
}
