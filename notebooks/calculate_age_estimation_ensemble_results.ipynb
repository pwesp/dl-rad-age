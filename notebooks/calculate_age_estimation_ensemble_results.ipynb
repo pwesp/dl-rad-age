{
 "cells": [
  {
   "cell_type": "code",
   "execution_count": null,
   "id": "5dc08b0c-1723-4d41-bde3-d9d34a09c2a8",
   "metadata": {},
   "outputs": [],
   "source": [
    "import matplotlib.pyplot as plt\n",
    "import numpy as np\n",
    "import pandas as pd\n",
    "from   pathlib import Path, PurePath\n",
    "from   scipy.ndimage import gaussian_filter1d as g1d\n",
    "import seaborn as sns\n",
    "from   dl_rad_age.evaluation import create_results_folder_name, evaluate_run, filter_runs, get_model_predictions, get_run_metrics, get_run_result, get_runs"
   ]
  },
  {
   "cell_type": "code",
   "execution_count": null,
   "id": "f2bef17a-fea6-405f-8516-d791080b3fbe",
   "metadata": {},
   "outputs": [],
   "source": [
    "LOGS_DIR    = '../lightning_logs'\n",
    "RESULTS_DIR = '../results/dgx_runs_on_test_set'\n",
    "ANNOTS_TEST = '../metadata/annotations_valid.csv'\n",
    "\n",
    "RESULTS_TEST_SET_CSV  = '../results/test_set/ensemble_results_test_set.csv'\n",
    "RESULTS_KH_MALE_CSV   = '../results/kh_ae_male.csv'\n",
    "RESULTS_KH_FEMALE_CSV = '../results/kh_ae_female.csv'"
   ]
  },
  {
   "cell_type": "markdown",
   "id": "62cf450c",
   "metadata": {},
   "source": [
    "### Runs"
   ]
  },
  {
   "cell_type": "code",
   "execution_count": null,
   "id": "f683a25b",
   "metadata": {},
   "outputs": [],
   "source": [
    "runs = get_runs(LOGS_DIR)\n",
    "print(runs)"
   ]
  },
  {
   "cell_type": "code",
   "execution_count": null,
   "id": "d8ddbd08",
   "metadata": {},
   "outputs": [],
   "source": [
    "runs = filter_runs(runs, include=['agenet18_3d_aug_sex_ageloss2_lrs_pretrained_ensemble'], exclude=['autoencoder'])\n",
    "print(runs), len(runs)"
   ]
  },
  {
   "cell_type": "markdown",
   "id": "da08b430",
   "metadata": {},
   "source": [
    "### Results"
   ]
  },
  {
   "cell_type": "code",
   "execution_count": null,
   "id": "f0abc115",
   "metadata": {},
   "outputs": [],
   "source": [
    "results = [get_run_result(x, LOGS_DIR) for x in runs]\n",
    "\n",
    "data_results = np.array([runs, results]).swapaxes(0,1)\n",
    "df_results   = pd.DataFrame(data=data_results, columns=['run', 'result'])\n",
    "df_results   = df_results.sort_values(by='result')\n",
    "df_results   = df_results.reset_index(drop=True)\n",
    "df_results"
   ]
  },
  {
   "cell_type": "markdown",
   "id": "9407daf6",
   "metadata": {},
   "source": [
    "### Training Curves"
   ]
  },
  {
   "cell_type": "code",
   "execution_count": null,
   "id": "209e148e",
   "metadata": {},
   "outputs": [],
   "source": [
    "print('Create training curves for...')\n",
    "\n",
    "for run in runs:\n",
    "    print('Run: {:s}'.format(run))\n",
    "    # Get metrics\n",
    "    loss_epoch, loss, val_loss_epoch, val_loss = get_run_metrics(run, LOGS_DIR)\n",
    "\n",
    "    # Create directories and filename for training curve\n",
    "    training_curve_filepath = PurePath(RESULTS_DIR, create_results_folder_name(run), 'training_curve.png')\n",
    "    Path(training_curve_filepath).parent.mkdir(parents=True, exist_ok=True)\n",
    "\n",
    "    # Create plot\n",
    "    plt.figure(figsize=(8,8))\n",
    "    plt.plot(loss_epoch, loss,                  lw=1, c='cornflowerblue', alpha=0.33)\n",
    "    plt.plot(loss_epoch, g1d(loss, 10),         lw=2, c='blue',           label='loss')\n",
    "    plt.plot(val_loss_epoch, val_loss,          lw=1, c='orange',         alpha=0.33)\n",
    "    plt.plot(val_loss_epoch, g1d(val_loss, 10), lw=2, c='orangered',      label='val_loss')\n",
    "    plt.tick_params(labelsize=14, size=4)\n",
    "    plt.xlabel('epoch', fontsize=14)\n",
    "    plt.ylabel('loss', fontsize=14)\n",
    "    plt.legend(fontsize=14)\n",
    "    print('\\tSave <{:s}>'.format(str(training_curve_filepath)))\n",
    "    plt.savefig(training_curve_filepath, facecolor='white', bbox_inches='tight')\n",
    "    plt.close()"
   ]
  },
  {
   "attachments": {},
   "cell_type": "markdown",
   "id": "20ba59e0",
   "metadata": {},
   "source": [
    "### Evaluate runs\n",
    "\n",
    "This may take a while"
   ]
  },
  {
   "cell_type": "code",
   "execution_count": null,
   "id": "3cbecbd2",
   "metadata": {},
   "outputs": [],
   "source": [
    "print('Create violin plots for...')\n",
    "for run in runs:\n",
    "    print('run: {:s}'.format(run))\n",
    "    evaluate_run(run, annots=ANNOTS_TEST, logs_dir=LOGS_DIR, results_dir=RESULTS_DIR, track_image_files=True)"
   ]
  },
  {
   "cell_type": "markdown",
   "id": "a5bd6fc0",
   "metadata": {},
   "source": [
    "### Aggregate results"
   ]
  },
  {
   "cell_type": "code",
   "execution_count": null,
   "id": "61677af7",
   "metadata": {},
   "outputs": [],
   "source": [
    "results_dirs      = [str(x) for x in Path(RESULTS_DIR).iterdir() if x.is_dir() and not str(x.name).startswith('.')]\n",
    "results_filepaths = [str(PurePath(x, 'results.csv')) for x in results_dirs]\n",
    "results_runs      = [str(Path(x).name) for x in results_dirs]\n",
    "\n",
    "y_true      = pd.read_csv(results_filepaths[0])['y_true'].to_list()\n",
    "sex         = pd.read_csv(results_filepaths[0])['sex'].to_list()\n",
    "image_files = pd.read_csv(results_filepaths[0])['image_file'].to_list()\n",
    "y_preds     = [pd.read_csv(x)['y_pred'].to_list() for x in results_filepaths]"
   ]
  },
  {
   "cell_type": "markdown",
   "id": "25e4d417",
   "metadata": {},
   "source": [
    "#### Average result (of individual models)"
   ]
  },
  {
   "cell_type": "code",
   "execution_count": null,
   "id": "61677af7",
   "metadata": {},
   "outputs": [],
   "source": [
    "y_err = np.abs(np.subtract(np.vstack(y_preds),y_true))\n",
    "\n",
    "mae_models  = np.mean(y_err, axis=1)\n",
    "mae_average = np.mean(mae_models)\n",
    "\n",
    "print('Average MAE = {:.1f} +/- {:.1f}'.format(mae_average, np.std(mae_models)))"
   ]
  },
  {
   "cell_type": "markdown",
   "id": "15d990a1",
   "metadata": {},
   "source": [
    "#### Ensemble result"
   ]
  },
  {
   "cell_type": "code",
   "execution_count": null,
   "id": "6c0d7c39",
   "metadata": {},
   "outputs": [],
   "source": [
    "y_pred_enbsemble = np.mean(y_preds, axis=0)\n",
    "sd_pred_ensemble = np.std(y_preds, axis=0) # SD of the ensemble predictions for each sample\n",
    "y_err_ensemble   = np.abs(np.subtract(y_pred_enbsemble, y_true))"
   ]
  },
  {
   "cell_type": "code",
   "execution_count": null,
   "id": "2d8ac006",
   "metadata": {},
   "outputs": [],
   "source": [
    "results = [y_true, sex, list(y_pred_enbsemble), list(y_err_ensemble), list(sd_pred_ensemble), image_files]\n",
    "cols    = ['y_true', 'sex', 'ensemble', 'error','uncertainty', 'image_file']\n",
    "for i, y_pred in enumerate(y_preds):\n",
    "    results.append(y_pred)\n",
    "    cols.append('model_{:d}'.format(i+1))\n",
    "\n",
    "results = np.asarray(results)\n",
    "\n",
    "df_results = pd.DataFrame(data=results.swapaxes(0,1), columns=cols)\n",
    "df_results.to_csv(RESULTS_TEST_SET_CSV, index=False)\n",
    "df_results"
   ]
  },
  {
   "cell_type": "code",
   "execution_count": null,
   "id": "d0da4397",
   "metadata": {},
   "outputs": [],
   "source": [
    "mae_ensemble = np.mean(y_err_ensemble)\n",
    "sd_ensemble  = np.mean(sd_pred_ensemble)\n",
    "\n",
    "max_error       = np.max(y_err_ensemble)\n",
    "sd_at_max_error = sd_pred_ensemble[np.argmax(y_err_ensemble)]\n",
    "p90_error       = np.percentile(y_err_ensemble, q=90.0)\n",
    "\n",
    "print('Ensemble MAE = {:.2f} +/- {:.2f}'.format(mae_ensemble, sd_ensemble))\n",
    "print('Max. error   = {:.2f} +/- {:.2f}'.format(max_error, sd_at_max_error))\n",
    "print('p90 err      = {:.2f}'.format(p90_error))"
   ]
  }
 ],
 "metadata": {
  "kernelspec": {
   "display_name": "Python 3",
   "language": "python",
   "name": "python3"
  },
  "language_info": {
   "codemirror_mode": {
    "name": "ipython",
    "version": 3
   },
   "file_extension": ".py",
   "mimetype": "text/x-python",
   "name": "python",
   "nbconvert_exporter": "python",
   "pygments_lexer": "ipython3",
   "version": "3.8.10"
  },
  "vscode": {
   "interpreter": {
    "hash": "916dbcbb3f70747c44a77c7bcd40155683ae19c65e1c03b4aa3499c5328201f1"
   }
  }
 },
 "nbformat": 4,
 "nbformat_minor": 5
}
