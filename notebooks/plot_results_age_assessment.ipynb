{
 "cells": [
  {
   "cell_type": "code",
   "execution_count": null,
   "id": "b4e0cddd-d7b3-4c58-b70d-dacce6b241f2",
   "metadata": {},
   "outputs": [],
   "source": [
    "import matplotlib.pyplot as plt\n",
    "import numpy as np\n",
    "import pandas as pd\n",
    "import seaborn as sns"
   ]
  },
  {
   "cell_type": "code",
   "execution_count": null,
   "id": "bc794cee-79ee-42ea-9a36-bc0fc382ec9a",
   "metadata": {},
   "outputs": [],
   "source": [
    "RESULTS_TEST_SET_CSV  = '../results/test_set/ensemble_results_test_set.csv'\n",
    "RESULTS_KH_MALE_CSV   = '../results/kh_ae_male.csv'\n",
    "RESULTS_KH_FEMALE_CSV = '../results/kh_ae_female.csv'"
   ]
  },
  {
   "attachments": {},
   "cell_type": "markdown",
   "id": "198e8607",
   "metadata": {},
   "source": [
    "### Load results"
   ]
  },
  {
   "cell_type": "code",
   "execution_count": null,
   "id": "702a4e88-ab96-4af9-b34a-96a0405cf924",
   "metadata": {},
   "outputs": [],
   "source": [
    "df_results_dl_ensemble = pd.read_csv(RESULTS_TEST_SET_CSV)\n",
    "df_results_kh_male     = pd.read_csv(RESULTS_KH_MALE_CSV)\n",
    "df_results_kh_female   = pd.read_csv(RESULTS_KH_FEMALE_CSV)"
   ]
  },
  {
   "cell_type": "code",
   "execution_count": null,
   "id": "11785881-cfef-41d9-becd-67ddcb648a88",
   "metadata": {},
   "outputs": [],
   "source": [
    "df_results_dl_ensemble[:10]"
   ]
  },
  {
   "cell_type": "code",
   "execution_count": null,
   "id": "15b9617e-086e-46e5-8f23-a36da59055df",
   "metadata": {},
   "outputs": [],
   "source": [
    "df_results_kh_male[:10]"
   ]
  },
  {
   "cell_type": "code",
   "execution_count": null,
   "id": "77ef0acf-7fa6-4831-805e-09ff1415fbf6",
   "metadata": {},
   "outputs": [],
   "source": [
    "df_results_kh_female[:10]"
   ]
  },
  {
   "cell_type": "code",
   "execution_count": null,
   "id": "6b9921d6",
   "metadata": {},
   "outputs": [],
   "source": [
    "y_true       = df_results_dl_ensemble['y_true'].to_numpy()\n",
    "abs_error_dl = df_results_dl_ensemble['error'].to_numpy()\n",
    "sex          = df_results_dl_ensemble['sex'].to_numpy()\n",
    "uncertainty  = df_results_dl_ensemble['uncertainty'].to_numpy()"
   ]
  },
  {
   "cell_type": "code",
   "execution_count": null,
   "id": "74691ad7",
   "metadata": {},
   "outputs": [],
   "source": [
    "y_true_m       = y_true[sex==0.0]\n",
    "y_true_f       = y_true[sex==1.0]\n",
    "abs_error_dl_m = abs_error_dl[sex==0.0]\n",
    "abs_error_dl_f = abs_error_dl[sex==1.0]\n",
    "uncertainty_m  = uncertainty[sex==0.0]\n",
    "uncertainty_f  = uncertainty[sex==1.0]"
   ]
  },
  {
   "cell_type": "code",
   "execution_count": null,
   "id": "90fab095",
   "metadata": {},
   "outputs": [],
   "source": [
    "abs_error_kh_m = []\n",
    "abs_error_kh_f = []\n",
    "\n",
    "for age_, sex_ in zip(y_true, sex):\n",
    "    # Round true age to match Kellinghaus table\n",
    "    age_ = np.round(age_, decimals=2)\n",
    "    \n",
    "    if sex_==0.0:\n",
    "        idx   = np.where(df_results_kh_male['age']==age_)[0][0]\n",
    "        error = df_results_kh_male.loc[idx, 'ae']\n",
    "        abs_error_kh_m.append(error)\n",
    "    elif sex_==1.0:\n",
    "        idx   = np.where(df_results_kh_female['age']==age_)[0][0]\n",
    "        error = df_results_kh_female.loc[idx, 'ae']\n",
    "        abs_error_kh_f.append(error)\n",
    "    else:\n",
    "        raise ValueError('Bad sex value <{}>.'.format(sex_))\n",
    "\n",
    "abs_error_kh_m = np.asarray(abs_error_kh_m)\n",
    "abs_error_kh_f = np.asarray(abs_error_kh_f)\n",
    "\n",
    "abs_error_kh_m.shape, abs_error_kh_f.shape"
   ]
  },
  {
   "cell_type": "code",
   "execution_count": null,
   "id": "fbec74bd",
   "metadata": {},
   "outputs": [],
   "source": [
    "# Sanity check: Are the errors for the test set on the curve?\n",
    "fig, ax = plt.subplots(1, 2, figsize=(12,6))\n",
    "ax[0].plot(df_results_kh_female['age'], df_results_kh_female['ae'])\n",
    "ax[0].scatter(y_true_f, abs_error_kh_f)\n",
    "ax[1].plot(df_results_kh_male['age'], df_results_kh_male['ae'])\n",
    "ax[1].scatter(y_true_m, abs_error_kh_m)\n",
    "ax[0].set_ylim(0,4)\n",
    "ax[1].set_ylim(0,4)\n",
    "plt.show()"
   ]
  },
  {
   "attachments": {},
   "cell_type": "markdown",
   "id": "0b7aacd9",
   "metadata": {},
   "source": [
    "### Error plot"
   ]
  },
  {
   "cell_type": "code",
   "execution_count": null,
   "id": "b49c8cdb",
   "metadata": {},
   "outputs": [],
   "source": [
    "# Set bins\n",
    "bins      = np.linspace(15, 30, num=7)\n",
    "positions = [(bins[i]+bins[i+1])/2.0 for i in range(len(bins)-1)]\n",
    "bins, positions"
   ]
  },
  {
   "cell_type": "code",
   "execution_count": null,
   "id": "6f5424b6-696b-4735-865f-e8cf524e6907",
   "metadata": {
    "tags": []
   },
   "outputs": [],
   "source": [
    "male_bin_inds   = np.digitize(y_true_m, bins, right=False)\n",
    "female_bin_inds = np.digitize(y_true_f, bins, right=False)\n",
    "\n",
    "# Bin age (sanity check)\n",
    "male_age_binned = [y_true_m[male_bin_inds==i] for i in np.unique(male_bin_inds)]\n",
    "female_age_binned = [y_true_f[female_bin_inds==i] for i in np.unique(female_bin_inds)]\n",
    "\n",
    "# Bin ensemble results\n",
    "ens_male_ae_binned   = [abs_error_dl_m[male_bin_inds==i] for i in np.unique(male_bin_inds)]\n",
    "ens_female_ae_binned = [abs_error_dl_f[female_bin_inds==i] for i in np.unique(female_bin_inds)]\n",
    "\n",
    "# Bin Kellinghaus results\n",
    "kh_male_ae_binned   = [abs_error_kh_m[male_bin_inds==i] for i in np.unique(male_bin_inds)]\n",
    "kh_female_ae_binned = [abs_error_kh_f[female_bin_inds==i] for i in np.unique(female_bin_inds)]"
   ]
  },
  {
   "cell_type": "code",
   "execution_count": null,
   "id": "909f8faa",
   "metadata": {},
   "outputs": [],
   "source": [
    "mae_ensemble        = np.mean(abs_error_dl)\n",
    "mae_ensemble_male   = np.mean(abs_error_dl_m)\n",
    "mae_ensemble_female = np.mean(abs_error_dl_f)\n",
    "print('MAE test set        = {:.2f} years'.format(mae_ensemble))\n",
    "print('MAE test set male   = {:.2f} years'.format(mae_ensemble_male))\n",
    "print('MAE test set female = {:.2f} years'.format(mae_ensemble_female))"
   ]
  },
  {
   "cell_type": "code",
   "execution_count": null,
   "id": "19ec5ac7-009b-4a49-8756-ad52013b3b54",
   "metadata": {},
   "outputs": [],
   "source": [
    "mae_kh        = np.mean(np.concatenate([abs_error_kh_m, abs_error_kh_f]))\n",
    "mae_kh_male   = np.mean(abs_error_kh_m)\n",
    "mae_kh_female = np.mean(abs_error_kh_f)\n",
    "\n",
    "max_kh_male   = np.max(abs_error_kh_m)\n",
    "max_kh_female = np.max(abs_error_kh_f)\n",
    "\n",
    "p90_kh_male   = np.percentile(abs_error_kh_m, q=90)\n",
    "p90_kh_female = np.percentile(abs_error_kh_f, q=90)\n",
    "\n",
    "print('MAE KH test set          = {:.2f} years'.format(mae_kh))\n",
    "print('MAE KH teset male male   = {:.2f} years'.format(mae_kh_male))\n",
    "print('MAE KH teset male female = {:.2f} years\\n'.format(mae_kh_female))\n",
    "\n",
    "print('Max KH teset male male   = {:.2f} years'.format(max_kh_male))\n",
    "print('Max KH teset male female = {:.2f} years\\n'.format(max_kh_female))\n",
    "\n",
    "print('P90 KH teset male male   = {:.2f} years'.format(p90_kh_male))\n",
    "print('P90 KH teset male female = {:.2f} years'.format(p90_kh_female))"
   ]
  },
  {
   "cell_type": "code",
   "execution_count": null,
   "id": "7986c857",
   "metadata": {},
   "outputs": [],
   "source": [
    "positions_ens = [x-0.42 for x in positions]\n",
    "positions_kh  = [x+0.42 for x in positions]\n",
    "xtick_labels  = ['15.0-17.5','17.5-20.0','20.0-22.5','22.5-25.0','25.0-27.5','27.5-30.0']\n",
    "\n",
    "width = 0.7\n",
    "lw = 1.5\n",
    "\n",
    "# colors\n",
    "# - '#00ccb0' and '#f88f6f'\n",
    "\n",
    "boxprops_ens = {'linewidth': lw, 'facecolor': '#8fb39f'}\n",
    "boxprops_kh  = {'linewidth': lw, 'facecolor': '#f9f1cb'}\n",
    "medianprops  = {'linewidth': lw, 'color': 'black'}\n",
    "whiskerprops = {'linewidth': lw}\n",
    "capprops     = {'linewidth': lw}\n",
    "flierprops   = {'marker': 'D', 'markersize': 5, 'markerfacecolor': 'lightgray'}\n",
    "\n",
    "fig, ax = plt.subplots(1,2, figsize=(20,10))\n",
    "\n",
    "# female results\n",
    "bp1 = ax[0].boxplot(ens_female_ae_binned,\n",
    "    positions=positions_ens,\n",
    "    widths=width,\n",
    "    patch_artist=True,\n",
    "    boxprops=boxprops_ens,\n",
    "    medianprops=medianprops,\n",
    "    whiskerprops=whiskerprops,\n",
    "    capprops=capprops,\n",
    "    flierprops=flierprops\n",
    ")\n",
    "bp2 = ax[0].boxplot(kh_female_ae_binned,\n",
    "    positions=positions_kh,\n",
    "    widths=width,\n",
    "    patch_artist=True,\n",
    "    boxprops=boxprops_kh,\n",
    "    medianprops=medianprops,\n",
    "    whiskerprops=whiskerprops,\n",
    "    capprops=capprops,\n",
    "    flierprops=flierprops\n",
    ")\n",
    "\n",
    "# male results\n",
    "bp3 = ax[1].boxplot(ens_male_ae_binned,\n",
    "    positions=positions_ens,\n",
    "    widths=width,\n",
    "    patch_artist=True,\n",
    "    boxprops=boxprops_ens,\n",
    "    medianprops=medianprops,\n",
    "    whiskerprops=whiskerprops,\n",
    "    capprops=capprops,\n",
    "    flierprops=flierprops\n",
    ")\n",
    "bp4 = ax[1].boxplot(kh_male_ae_binned,\n",
    "    positions=positions_kh,\n",
    "    widths=width,\n",
    "    patch_artist=True,\n",
    "    boxprops=boxprops_kh,\n",
    "    medianprops=medianprops,\n",
    "    whiskerprops=whiskerprops,\n",
    "    capprops=capprops,\n",
    "    flierprops=flierprops\n",
    ")\n",
    "\n",
    "for axis in ax:\n",
    "    axis.set_xticks(ticks=positions, labels=xtick_labels, rotation=45, ha='right')\n",
    "    axis.set_xlim(14.75,30.25)\n",
    "    axis.set_ylim(0.0,7.8)\n",
    "    axis.tick_params(labelsize=16, size=4)\n",
    "    axis.set_xlabel('true age / (years)', fontsize=16, labelpad=20)\n",
    "    axis.set_ylabel('absolute prediction error / (years)', fontsize=16, labelpad=20)\n",
    "\n",
    "ax[0].legend([bp1[\"boxes\"][0], bp2[\"boxes\"][0]], ['deep learning', 'optimistic human reader estimate'], loc='upper right', fontsize=16)\n",
    "ax[1].legend([bp3[\"boxes\"][0], bp4[\"boxes\"][0]], ['deep learning', 'optimistic human reader estimate'], loc='upper right', fontsize=16)\n",
    "\n",
    "ax[0].set_title('female', fontsize=18)\n",
    "ax[1].set_title('male', fontsize=18)\n",
    "\n",
    "plt.savefig('../results/plots/error_plot.png', facecolor='white', bbox_inches='tight', dpi=300)\n",
    "plt.show()"
   ]
  },
  {
   "cell_type": "markdown",
   "id": "84e06a02",
   "metadata": {},
   "source": [
    "### Outlier plot"
   ]
  },
  {
   "cell_type": "code",
   "execution_count": null,
   "id": "f5e1f30e",
   "metadata": {},
   "outputs": [],
   "source": [
    "abstention_rate = 0.5"
   ]
  },
  {
   "cell_type": "code",
   "execution_count": null,
   "id": "e6d6654c-c025-4a94-86d0-0d7a66e676e5",
   "metadata": {},
   "outputs": [],
   "source": [
    "# Idenfity samples wiht low uncertainty\n",
    "ref_unc_val = np.percentile(uncertainty, q=(1-abstention_rate)*100)\n",
    "\n",
    "# Select low uncertainty samples\n",
    "y_true_lu      = y_true[uncertainty<ref_unc_val]\n",
    "abs_error_lu   = abs_error_dl[uncertainty<ref_unc_val]\n",
    "sex_lu         = sex[uncertainty<ref_unc_val]\n",
    "uncertainty_lu = uncertainty[uncertainty<ref_unc_val]\n",
    "\n",
    "# Separate by sex\n",
    "y_true_m_lu      = y_true_lu[sex_lu==0.0]\n",
    "y_true_f_lu      = y_true_lu[sex_lu==1.0]\n",
    "abs_error_m_lu   = abs_error_lu[sex_lu==0.0]\n",
    "abs_error_f_lu   = abs_error_lu[sex_lu==1.0]\n",
    "uncertainty_m_lu = uncertainty_lu[sex_lu==0.0]\n",
    "uncertainty_f_lu = uncertainty_lu[sex_lu==1.0]"
   ]
  },
  {
   "cell_type": "code",
   "execution_count": null,
   "id": "01490fe0",
   "metadata": {},
   "outputs": [],
   "source": [
    "male_bin_inds_lu   = np.digitize(y_true_m_lu, bins, right=False)\n",
    "female_bin_inds_lu = np.digitize(y_true_f_lu, bins, right=False)\n",
    "\n",
    "# Bin age (sanity check)\n",
    "male_age_binned_lu = [y_true_m_lu[male_bin_inds_lu==i] for i in np.unique(male_bin_inds_lu)]\n",
    "female_age_binned_lu = [y_true_f_lu[female_bin_inds_lu==i] for i in np.unique(female_bin_inds_lu)]\n",
    "\n",
    "# Bin ensemble results\n",
    "ens_male_ae_binned_lu   = [abs_error_m_lu[male_bin_inds_lu==i] for i in np.unique(male_bin_inds_lu)]\n",
    "ens_female_ae_binned_lu = [abs_error_f_lu[female_bin_inds_lu==i] for i in np.unique(female_bin_inds_lu)]"
   ]
  },
  {
   "cell_type": "code",
   "execution_count": null,
   "id": "64201bd3",
   "metadata": {},
   "outputs": [],
   "source": [
    "# Outlier in regular results\n",
    "max_ae_ens_m = [np.max(x) for x in ens_male_ae_binned]\n",
    "max_ae_ens_f = [np.max(x) for x in ens_female_ae_binned]\n",
    "\n",
    "p90_ae_ens_m = [np.percentile(x, q=90) for x in ens_male_ae_binned]\n",
    "p90_ae_ens_f = [np.percentile(x, q=90) for x in ens_female_ae_binned]\n",
    "\n",
    "max_ae_kh_m = [np.max(x) for x in kh_male_ae_binned]\n",
    "max_ae_kh_f = [np.max(x) for x in kh_female_ae_binned]\n",
    "\n",
    "# Outlier in low uncertainty results\n",
    "max_ae_ens_m_lu = [np.max(x) for x in ens_male_ae_binned_lu]\n",
    "max_ae_ens_f_lu = [np.max(x) for x in ens_female_ae_binned_lu]\n",
    "\n",
    "p90_ae_ens_m_lu = [np.percentile(x, q=90) for x in ens_male_ae_binned_lu]\n",
    "p90_ae_ens_f_lu = [np.percentile(x, q=90) for x in ens_female_ae_binned_lu]"
   ]
  },
  {
   "cell_type": "code",
   "execution_count": null,
   "id": "381b4f12",
   "metadata": {},
   "outputs": [],
   "source": [
    "markers = ['o', '^', '_', 's', 'd', '_']\n",
    "size    = 250\n",
    "colors  = ['red', 'orangered', 'k', 'blue', 'cornflowerblue', 'k']\n",
    "\n",
    "fig, ax = plt.subplots(1, 2, figsize=(20,10))\n",
    "\n",
    "ax[0].scatter(positions, np.max([max_ae_ens_f, max_ae_ens_m], axis=0), marker=markers[0], s=size, c=colors[0], edgecolor='k', lw=1.5, alpha=0.9, label='max (AgeNet)')\n",
    "ax[0].scatter(positions, np.max([p90_ae_ens_f, p90_ae_ens_m], axis=0), marker=markers[1], s=size, c=colors[1], edgecolor='k', lw=1.5, alpha=0.9, label='p90 (AgeNet)')\n",
    "ax[0].scatter(positions, np.max([max_ae_kh_f, max_ae_kh_m], axis=0),   marker=markers[2], s=size, c=colors[2], lw=2, label='max (standard method)')\n",
    "\n",
    "ax[1].scatter(positions, np.max([max_ae_ens_f_lu, max_ae_ens_m_lu], axis=0), marker=markers[3], s=size, c=colors[3], edgecolor='k', alpha=0.9, lw=1.5, label='max (AgeNet)')\n",
    "ax[1].scatter(positions, np.max([p90_ae_ens_f_lu, p90_ae_ens_m_lu], axis=0), marker=markers[4], s=size, c=colors[4], edgecolor='k', alpha=0.9, lw=1.5, label='p90 (AgeNet)')\n",
    "ax[1].scatter(positions, np.max([max_ae_kh_f, max_ae_kh_m], axis=0),         marker=markers[5], s=size, c=colors[5], lw=2, label='max (standard method)')\n",
    "\n",
    "for axis in ax:\n",
    "    axis.set_xticks(ticks=positions, labels=xtick_labels, rotation=45, ha='right')\n",
    "    axis.set_xlim(14.75,30.25)\n",
    "    axis.set_ylim(0.0,7.8)\n",
    "    axis.tick_params(labelsize=16, size=4)\n",
    "    axis.set_xlabel('true age / (years)', fontsize=16, labelpad=20)\n",
    "    axis.set_ylabel('absolute prediction error / (years)', fontsize=16, labelpad=20)\n",
    "    axis.legend(fontsize=16)\n",
    "ax[0].set_title('all predictions (no abstention)', fontsize=18)\n",
    "ax[1].set_title(f'most certain predictions (abstention rate = {str(abstention_rate):s})', fontsize=18)\n",
    "plt.suptitle('female and male combined', fontsize=18)\n",
    "\n",
    "plt.savefig('../results/plots/outlier_plot.png', facecolor='white', bbox_inches='tight', dpi=300)\n",
    "plt.show()"
   ]
  },
  {
   "cell_type": "code",
   "execution_count": null,
   "id": "9d424a72",
   "metadata": {},
   "outputs": [],
   "source": [
    "markers = ['o', '*', '_', 's', 'd', '_']\n",
    "size    = 300\n",
    "colors  = ['#8fb39f', '#f9f1cb', 'k', '#8fb39f', '#f9f1cb', 'k']\n",
    "\n",
    "fig, ax = plt.subplots(1, 2, figsize=(20,10))\n",
    "\n",
    "ax[0].scatter(positions, max_ae_ens_f, marker=markers[0], s=size, c=colors[0], edgecolor='k', lw=1.5, alpha=0.9, label='max (AgeNet)')\n",
    "ax[0].scatter(positions, p90_ae_ens_f, marker=markers[1], s=size, c=colors[1], edgecolor='k', lw=1.5, alpha=0.9, label='p90 (AgeNet)')\n",
    "ax[0].scatter(positions, max_ae_kh_f,  marker=markers[2], s=size, c=colors[2], lw=2, label='max (standard method)')\n",
    "\n",
    "ax[1].scatter(positions, max_ae_ens_f_lu, marker=markers[3], s=size, c=colors[3], edgecolor='k', alpha=0.9, lw=1.5, label='max (AgeNet)')\n",
    "ax[1].scatter(positions, p90_ae_ens_f_lu, marker=markers[4], s=size, c=colors[4], edgecolor='k', alpha=0.9, lw=1.5, label='p90 (AgeNet)')\n",
    "ax[1].scatter(positions, max_ae_kh_f,     marker=markers[5], s=size, c=colors[5], lw=2, label='max (standard method)')\n",
    "\n",
    "for axis in ax:\n",
    "    axis.set_xticks(ticks=positions, labels=xtick_labels, rotation=45, ha='right')\n",
    "    axis.set_xlim(14.75,30.25)\n",
    "    axis.set_ylim(0.0,7.8)\n",
    "    axis.tick_params(labelsize=16, size=4)\n",
    "    axis.set_xlabel('true age / (years)', fontsize=16, labelpad=20)\n",
    "    axis.set_ylabel('absolute prediction error / (years)', fontsize=16, labelpad=20)\n",
    "    axis.legend(fontsize=16)\n",
    "\n",
    "plt.suptitle('female', fontsize=18)\n",
    "plt.show()\n",
    "\n",
    "fig, ax = plt.subplots(1, 2, figsize=(20,10))\n",
    "\n",
    "ax[0].scatter(positions, max_ae_ens_m, marker=markers[0], s=size, c=colors[0], edgecolor='k', lw=1.5, alpha=0.9, label='max (AgeNet)')\n",
    "ax[0].scatter(positions, p90_ae_ens_m, marker=markers[1], s=size, c=colors[1], edgecolor='k', lw=1.5, alpha=0.9, label='p90 (AgeNet)')\n",
    "ax[0].scatter(positions, max_ae_kh_m,  marker=markers[2], s=size, c=colors[2], lw=2, label='max (standard method)')\n",
    "\n",
    "ax[1].scatter(positions, max_ae_ens_m_lu, marker=markers[3], s=size, c=colors[3], edgecolor='k', alpha=0.9, lw=1.5, label='max (AgeNet)')\n",
    "ax[1].scatter(positions, p90_ae_ens_m_lu, marker=markers[4], s=size, c=colors[4], edgecolor='k', alpha=0.9, lw=1.5, label='p90 (AgeNet)')\n",
    "ax[1].scatter(positions, max_ae_kh_m,     marker=markers[5], s=size, c=colors[5], lw=2, label='max (standard method)')\n",
    "\n",
    "for axis in ax:\n",
    "    axis.set_xticks(ticks=positions, labels=xtick_labels, rotation=45, ha='right')\n",
    "    axis.set_xlim(14.75,30.25)\n",
    "    axis.set_ylim(0.0,7.8)\n",
    "    axis.tick_params(labelsize=16, size=4)\n",
    "    axis.set_xlabel('true age / (years)', fontsize=16, labelpad=20)\n",
    "    axis.set_ylabel('absolute prediction error / (years)', fontsize=16, labelpad=20)\n",
    "    axis.legend(fontsize=16)\n",
    "\n",
    "plt.suptitle('male', fontsize=18)\n",
    "plt.show()"
   ]
  },
  {
   "cell_type": "markdown",
   "id": "25659c15",
   "metadata": {},
   "source": [
    "### Abstention-Performance Trade-Off"
   ]
  },
  {
   "cell_type": "code",
   "execution_count": null,
   "id": "9dfb831e",
   "metadata": {},
   "outputs": [],
   "source": [
    "# Total number of test samples\n",
    "n_elem = abs_error_dl.shape[0]\n",
    "\n",
    "# Indicies to sort results by ascending uncertainty\n",
    "order_asc_uc = np.argsort(uncertainty)\n",
    "\n",
    "# Sort error und uncertainty by ascending uncertainty\n",
    "ordered_abs_error   = abs_error_dl[order_asc_uc]\n",
    "ordered_uncertainty = uncertainty[order_asc_uc]"
   ]
  },
  {
   "cell_type": "code",
   "execution_count": null,
   "id": "d68cb494",
   "metadata": {},
   "outputs": [],
   "source": [
    "# Set abstention rates\n",
    "abs_rates = np.linspace(0.0,1.0, num=300)\n",
    "abs_rates = abs_rates[:-1]"
   ]
  },
  {
   "cell_type": "code",
   "execution_count": null,
   "id": "1e756142",
   "metadata": {},
   "outputs": [],
   "source": [
    "# Calculate metrics for different abstention rates\n",
    "abs_maes     = []\n",
    "abs_max_errs = []\n",
    "abs_p90_errs = []\n",
    "\n",
    "for rate in abs_rates:\n",
    "    ordered_error_ = ordered_abs_error[:int((1-rate)*n_elem)]\n",
    "\n",
    "    mae_     = np.mean(ordered_error_)\n",
    "    max_err_ = np.max(ordered_error_)\n",
    "    p90_err_ = np.percentile(ordered_error_, q=90.0)\n",
    "    \n",
    "    if len(abs_p90_errs) > 0:\n",
    "        mae_     = np.min([mae_, np.min(abs_maes)])\n",
    "        p90_err_ = np.min([p90_err_, np.min(abs_p90_errs)])\n",
    "\n",
    "    abs_maes.append(mae_)\n",
    "    abs_max_errs.append(max_err_)\n",
    "    abs_p90_errs.append(p90_err_)"
   ]
  },
  {
   "cell_type": "code",
   "execution_count": null,
   "id": "831bf383",
   "metadata": {},
   "outputs": [],
   "source": [
    "idx_max_equal = 0\n",
    "while(abs_max_errs[idx_max_equal] > np.max(np.concatenate([abs_error_kh_m,abs_error_kh_f]))):\n",
    "    idx_max_equal+=1\n",
    "\n",
    "print('max abs. error (standard method) = {:.3f}'.format(np.max(np.concatenate([abs_error_kh_m,abs_error_kh_f]))))\n",
    "print('max abs. error (deep learning)   = {:.3f} @ abst. rate = {:.3f}'.format(abs_max_errs[idx_max_equal], abs_rates[idx_max_equal]))"
   ]
  },
  {
   "cell_type": "code",
   "execution_count": null,
   "id": "f190cc19",
   "metadata": {},
   "outputs": [],
   "source": [
    "idx_p90_equal = 0\n",
    "while(abs_p90_errs[idx_p90_equal] > np.percentile(np.concatenate([abs_error_kh_m,abs_error_kh_f]), q=90)):\n",
    "    idx_p90_equal+=1\n",
    "\n",
    "print('p90 abs. error (standard method) = {:.3f}'.format(np.percentile(np.concatenate([abs_error_kh_m,abs_error_kh_f]), q=90)))\n",
    "print('p90 abs. error (deep learning)   = {:.3f} @ abst. rate = {:.3f}'.format(abs_p90_errs[idx_p90_equal], abs_rates[idx_p90_equal]))"
   ]
  },
  {
   "cell_type": "code",
   "execution_count": null,
   "id": "d0891599",
   "metadata": {},
   "outputs": [],
   "source": [
    "lw = 2\n",
    "colors = ['#ff931d', '#00a769', 'black']\n",
    "\n",
    "plt.figure(figsize=(10,10))\n",
    "plt.axhline(y=np.max(np.concatenate([abs_error_kh_m,abs_error_kh_f])), ls='--', lw=lw, c=colors[0], label='max error (HRE)')\n",
    "plt.axhline(y=np.percentile(np.concatenate([abs_error_kh_m,abs_error_kh_f]), q=90), ls='-.', lw=lw, c=colors[1], label='p90 error (HRE)')\n",
    "plt.axhline(y=np.mean(np.concatenate([abs_error_kh_m,abs_error_kh_f])), ls=':', lw=lw, c=colors[2], label='MAE (HRE)')\n",
    "plt.plot(abs_rates*100, abs_max_errs, lw=lw, c=colors[0], label='max error (deep learning)')\n",
    "plt.plot(abs_rates*100, abs_p90_errs, lw=lw, c=colors[1], label='p90 error (deep learning)')\n",
    "plt.plot(abs_rates*100, abs_maes,     lw=lw, c=colors[2], label='MAE (deep learning)')\n",
    "plt.ylim(bottom=0.0)\n",
    "plt.tick_params(labelsize=16, size=4)\n",
    "plt.xlabel('abstention rate / (%)', fontsize=16)\n",
    "plt.ylabel('absolute error / (years)', fontsize=16)\n",
    "plt.legend(fontsize=14)\n",
    "\n",
    "plt.savefig('../results/plots/abstention_performance_trade_off.png', facecolor='white', bbox_inches='tight', dpi=100)\n",
    "plt.show()"
   ]
  },
  {
   "cell_type": "markdown",
   "id": "8a3caef3",
   "metadata": {},
   "source": [
    "### Best and worst predictions"
   ]
  },
  {
   "cell_type": "code",
   "execution_count": null,
   "id": "1d92c1bf",
   "metadata": {},
   "outputs": [],
   "source": [
    "best_female_image_file  = '../data/preprocessed/ae_1789_0_0.npy'\n",
    "best_male_image_file    = '../data/preprocessed/ae_3507_0_0.npy'\n",
    "worst_female_image_file = '../data/preprocessed/ae_1641_0_0.npy'\n",
    "worst_male_image_file   = '../data/preprocessed/ae_2963_0_0.npy'"
   ]
  },
  {
   "cell_type": "code",
   "execution_count": null,
   "id": "6c8be3a4",
   "metadata": {},
   "outputs": [],
   "source": [
    "best_female_image  = np.load(best_female_image_file)\n",
    "best_male_image    = np.load(best_male_image_file)\n",
    "worst_female_image = np.load(worst_female_image_file)\n",
    "worst_male_image   = np.load(worst_male_image_file)"
   ]
  },
  {
   "cell_type": "code",
   "execution_count": null,
   "id": "91d28ce6",
   "metadata": {},
   "outputs": [],
   "source": [
    "best_female_image  = np.clip(best_female_image, -250, 1250)\n",
    "best_male_image    = np.clip(best_male_image, -250, 1250)\n",
    "worst_female_image = np.clip(worst_female_image, -250, 1250)\n",
    "worst_male_image   = np.clip(worst_male_image, -250, 1250)"
   ]
  },
  {
   "cell_type": "code",
   "execution_count": null,
   "id": "aff318e2",
   "metadata": {},
   "outputs": [],
   "source": [
    "best_female_image.shape"
   ]
  },
  {
   "cell_type": "code",
   "execution_count": null,
   "id": "d673deac",
   "metadata": {},
   "outputs": [],
   "source": [
    "plt.figure(figsize=(12,22.4))\n",
    "plt.imshow(best_female_image[40,:], cmap='gist_gray')\n",
    "plt.tick_params(labelsize=16, size=4)\n",
    "plt.xlabel('x', fontsize=16)\n",
    "plt.ylabel('y', fontsize=16)\n",
    "plt.title('best prediction (female)', fontsize=18)\n",
    "plt.savefig('../results/plots/best_pred_f.png', facecolor='white', bbox_inches='tight', dpi=100)\n",
    "plt.show()"
   ]
  },
  {
   "cell_type": "code",
   "execution_count": null,
   "id": "bdf615bc",
   "metadata": {},
   "outputs": [],
   "source": [
    "plt.figure(figsize=(12,22.4))\n",
    "plt.imshow(best_male_image[46,:], cmap='gist_gray')\n",
    "plt.tick_params(labelsize=16, size=4)\n",
    "plt.xlabel('x', fontsize=16)\n",
    "plt.ylabel('y', fontsize=16)\n",
    "plt.title('best prediction (male)', fontsize=18)\n",
    "plt.savefig('../results/plots/best_pred_m.png', facecolor='white', bbox_inches='tight', dpi=100)\n",
    "plt.show()"
   ]
  },
  {
   "cell_type": "code",
   "execution_count": null,
   "id": "0bb5f1a3",
   "metadata": {},
   "outputs": [],
   "source": [
    "plt.figure(figsize=(12,22.4))\n",
    "plt.imshow(worst_female_image[38,:], cmap='gist_gray')\n",
    "plt.tick_params(labelsize=16, size=4)\n",
    "plt.xlabel('x', fontsize=16)\n",
    "plt.ylabel('y', fontsize=16)\n",
    "plt.title('worst prediction (female)', fontsize=18)\n",
    "plt.savefig('../results/plots/worst_pred_f.png', facecolor='white', bbox_inches='tight', dpi=100)\n",
    "plt.show()"
   ]
  },
  {
   "cell_type": "code",
   "execution_count": null,
   "id": "0d8c1b66",
   "metadata": {},
   "outputs": [],
   "source": [
    "plt.figure(figsize=(12,22.4))\n",
    "plt.imshow(worst_male_image[38,:], cmap='gist_gray')\n",
    "plt.tick_params(labelsize=16, size=4)\n",
    "plt.xlabel('x', fontsize=16)\n",
    "plt.ylabel('y', fontsize=16)\n",
    "plt.title('worst prediction (male)', fontsize=18)\n",
    "plt.savefig('../results/plots/worst_pred_m.png', facecolor='white', bbox_inches='tight', dpi=100)\n",
    "plt.show()"
   ]
  }
 ],
 "metadata": {
  "kernelspec": {
   "display_name": "Python 3",
   "language": "python",
   "name": "python3"
  },
  "language_info": {
   "codemirror_mode": {
    "name": "ipython",
    "version": 3
   },
   "file_extension": ".py",
   "mimetype": "text/x-python",
   "name": "python",
   "nbconvert_exporter": "python",
   "pygments_lexer": "ipython3",
   "version": "3.8.10"
  },
  "vscode": {
   "interpreter": {
    "hash": "916dbcbb3f70747c44a77c7bcd40155683ae19c65e1c03b4aa3499c5328201f1"
   }
  }
 },
 "nbformat": 4,
 "nbformat_minor": 5
}
