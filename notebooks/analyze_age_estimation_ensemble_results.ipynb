{
 "cells": [
  {
   "cell_type": "code",
   "execution_count": null,
   "id": "5dc08b0c-1723-4d41-bde3-d9d34a09c2a8",
   "metadata": {},
   "outputs": [],
   "source": [
    "import matplotlib.pyplot as plt\n",
    "import numpy as np\n",
    "import pandas as pd\n",
    "from   pathlib import Path, PurePath\n",
    "from   scipy.ndimage import gaussian_filter1d as g1d\n",
    "import seaborn as sns\n",
    "\n",
    "from   dl_rad_age.evaluation import create_results_folder_name, evaluate_run, filter_runs, get_model_predictions, get_run_metrics, get_run_result, get_runs"
   ]
  },
  {
   "cell_type": "code",
   "execution_count": null,
   "id": "f2bef17a-fea6-405f-8516-d791080b3fbe",
   "metadata": {},
   "outputs": [],
   "source": [
    "RESULTS_TEST_SET_CSV  = '../results/test_set/ensemble_results_test_set.csv'\n",
    "RESULTS_KH_MALE_CSV   = '../results/kh_ae_male.csv'\n",
    "RESULTS_KH_FEMALE_CSV = '../results/kh_ae_female.csv'"
   ]
  },
  {
   "cell_type": "markdown",
   "id": "68e420af",
   "metadata": {},
   "source": [
    "### Analysis"
   ]
  },
  {
   "cell_type": "code",
   "execution_count": null,
   "id": "0b14a7f4",
   "metadata": {},
   "outputs": [],
   "source": [
    "# Load results from disk\n",
    "df_results_dl        = pd.read_csv(RESULTS_TEST_SET_CSV)\n",
    "df_results_kh_male   = pd.read_csv(RESULTS_KH_MALE_CSV)\n",
    "df_results_kh_female = pd.read_csv(RESULTS_KH_FEMALE_CSV)"
   ]
  },
  {
   "cell_type": "code",
   "execution_count": null,
   "id": "17994680",
   "metadata": {},
   "outputs": [],
   "source": [
    "# Prepare data for analysis\n",
    "y_true       = df_results_dl['y_true'].to_numpy()\n",
    "abs_error_dl = df_results_dl['error'].to_numpy()\n",
    "sex          = df_results_dl['sex'].to_numpy()\n",
    "uncertainty  = df_results_dl['uncertainty'].to_numpy()\n",
    "image_files  = df_results_dl['image_file'].to_numpy()\n",
    "model_preds  = df_results_dl.iloc[:,6:].to_numpy()\n",
    "sd_preds     = np.std(model_preds, axis=1)\n",
    "\n",
    "y_true_m       = y_true[sex==0.0]\n",
    "y_true_f       = y_true[sex==1.0]\n",
    "abs_error_dl_m = abs_error_dl[sex==0.0]\n",
    "abs_error_dl_f = abs_error_dl[sex==1.0]\n",
    "uncertainty_m  = uncertainty[sex==0.0]\n",
    "uncertainty_f  = uncertainty[sex==1.0]\n",
    "image_files_m  = image_files[sex==0.0]\n",
    "image_files_f  = image_files[sex==1.0]\n",
    "sd_preds_m     = sd_preds[sex==0.0]\n",
    "sd_preds_f     = sd_preds[sex==1.0]\n",
    "\n",
    "abs_error_kh_m = []\n",
    "abs_error_kh_f = []\n",
    "\n",
    "for age_, sex_ in zip(y_true, sex):\n",
    "    # Round true age to match Kellinghaus table\n",
    "    age_ = np.round(age_, decimals=2)\n",
    "    \n",
    "    if sex_==0.0:\n",
    "        idx   = np.where(df_results_kh_male['age']==age_)[0][0]\n",
    "        error = df_results_kh_male.loc[idx, 'ae']\n",
    "        abs_error_kh_m.append(error)\n",
    "    elif sex_==1.0:\n",
    "        idx   = np.where(df_results_kh_female['age']==age_)[0][0]\n",
    "        error = df_results_kh_female.loc[idx, 'ae']\n",
    "        abs_error_kh_f.append(error)\n",
    "    else:\n",
    "        raise ValueError('Bad sex value <{}>.'.format(sex_))\n",
    "\n",
    "abs_error_kh_m = np.asarray(abs_error_kh_m)\n",
    "abs_error_kh_f = np.asarray(abs_error_kh_f)\n",
    "abs_error_kh   = np.concatenate([abs_error_kh_m,abs_error_kh_f])\n",
    "\n",
    "abs_error_kh_m.shape, abs_error_kh_f.shape, abs_error_kh.shape"
   ]
  },
  {
   "cell_type": "markdown",
   "id": "bbe96964",
   "metadata": {},
   "source": [
    "### Global performance"
   ]
  },
  {
   "cell_type": "code",
   "execution_count": null,
   "id": "af2d88c7",
   "metadata": {},
   "outputs": [],
   "source": [
    "# Deep learning\n",
    "mae_dl     = np.mean(abs_error_dl)\n",
    "mae_sd_dl  = np.std(abs_error_dl)\n",
    "max_ae_dl  = np.max(abs_error_dl)\n",
    "p90_ae_dl  = np.percentile(abs_error_dl, q=90.0)\n",
    "mean_sd_dl = np.mean(sd_preds)\n",
    "\n",
    "# Deep learning - male / female\n",
    "mae_dl_male       = np.mean(abs_error_dl_m)\n",
    "mae_dl_female     = np.mean(abs_error_dl_f)\n",
    "mae_sd_dl_male    = np.std(abs_error_dl_m)\n",
    "mae_sd_dl_female  = np.std(abs_error_dl_f)\n",
    "max_ae_dl_male    = np.max(abs_error_dl_m)\n",
    "max_ae_dl_female  = np.max(abs_error_dl_f)\n",
    "p90_ae_dl_male    = np.percentile(abs_error_dl_m, q=90)\n",
    "p90_ae_dl_female  = np.percentile(abs_error_dl_f, q=90)\n",
    "mean_sd_dl_male   = np.mean(sd_preds_m)\n",
    "mean_sd_dl_female = np.mean(sd_preds_f)\n",
    "\n",
    "# Kellinghaus\n",
    "mae_kh    = np.mean(abs_error_kh)\n",
    "mae_sd_kh = np.std(abs_error_kh)\n",
    "max_ae_kh = np.max(abs_error_kh)\n",
    "p90_ae_kh = np.percentile(abs_error_kh, q=90.0)\n",
    "\n",
    "# Kellinghaus - male / female\n",
    "mae_kh_male      = np.mean(abs_error_kh_m)\n",
    "mae_kh_female    = np.mean(abs_error_kh_f)\n",
    "mae_sd_kh_male    = np.std(abs_error_kh_m)\n",
    "mae_sd_kh_female  = np.std(abs_error_kh_f)\n",
    "max_ae_kh_male   = np.max(abs_error_kh_m)\n",
    "max_ae_kh_female = np.max(abs_error_kh_f)\n",
    "p90_ae_kh_male   = np.percentile(abs_error_kh_m, q=90)\n",
    "p90_ae_kh_female = np.percentile(abs_error_kh_f, q=90)"
   ]
  },
  {
   "cell_type": "code",
   "execution_count": null,
   "id": "e600f948",
   "metadata": {},
   "outputs": [],
   "source": [
    "print('AgeNet (Deep Learning):')\n",
    "print('\\tMAE = {:.2f} +/- {:.2f}'.format(mae_dl, mae_sd_dl))\n",
    "print('\\t\\tmale   = {:.2f} +/- {:.2f}'.format(mae_dl_male, mae_sd_dl_male))\n",
    "print('\\t\\tfemale = {:.2f} +/- {:.2f}'.format(mae_dl_female, mae_sd_dl_female))\n",
    "print('\\tmax error = {:.2f}'.format(max_ae_dl))\n",
    "print('\\t\\tmale   = {:.2f}'.format(max_ae_dl_male))\n",
    "print('\\t\\tfemale = {:.2f}'.format(max_ae_dl_female))\n",
    "print('\\tp90 error = {:.2f}'.format(p90_ae_dl))\n",
    "print('\\t\\tmale   = {:.2f}'.format(p90_ae_dl_male))\n",
    "print('\\t\\tfemale = {:.2f}'.format(p90_ae_dl_female))\n",
    "print('\\tSD = {:.2f}'.format(mean_sd_dl))\n",
    "print('\\t\\tmale   = {:.2f}'.format(mean_sd_dl_male))\n",
    "print('\\t\\tfemale = {:.2f}'.format(mean_sd_dl_female))\n",
    "\n",
    "print('\\nStandard method (Kellinghaus):')\n",
    "print('\\tMAE = {:.2f} +/- {:.2f}'.format(mae_kh, mae_sd_kh))\n",
    "print('\\t\\tmale   = {:.2f} +/- {:.2f}'.format(mae_kh_male, mae_sd_kh_male))\n",
    "print('\\t\\tfemale = {:.2f} +/- {:.2f}'.format(mae_kh_female, mae_sd_kh_female))\n",
    "print('\\tmax error = {:.2f}'.format(max_ae_kh))\n",
    "print('\\t\\tmale   = {:.2f}'.format(max_ae_kh_male))\n",
    "print('\\t\\tfemale = {:.2f}'.format(max_ae_kh_female))\n",
    "print('\\tp90 error = {:.2f}'.format(p90_ae_kh))\n",
    "print('\\t\\tmale   = {:.2f}'.format(p90_ae_kh_male))\n",
    "print('\\t\\tfemale = {:.2f}'.format(p90_ae_kh_female))"
   ]
  },
  {
   "attachments": {},
   "cell_type": "markdown",
   "id": "b9e9fe17",
   "metadata": {},
   "source": [
    "### Best / worst predictions"
   ]
  },
  {
   "cell_type": "markdown",
   "id": "e45f2b47",
   "metadata": {},
   "source": [
    "#### Deep learning"
   ]
  },
  {
   "cell_type": "code",
   "execution_count": null,
   "id": "1cc874f4",
   "metadata": {},
   "outputs": [],
   "source": [
    "id_best_dl_pred_m  = np.argmin(abs_error_dl_m)\n",
    "id_best_dl_pred_f  = np.argmin(abs_error_dl_f)\n",
    "id_worst_dl_pred_m = np.argmax(abs_error_dl_m)\n",
    "id_worst_dl_pred_f = np.argmax(abs_error_dl_f)\n",
    "\n",
    "\n",
    "print('Best prediction')\n",
    "print('\\tFemale')\n",
    "print('\\t\\tAbs error = {:.3f} +/- {:.3f}'.format(abs_error_dl_f[id_best_dl_pred_f], sd_preds_f[id_best_dl_pred_f]))\n",
    "print('\\t\\tTrue age = {:.3f}'.format(y_true_f[id_best_dl_pred_f]))\n",
    "print('\\t\\tImage file = {:s}'.format(image_files_f[id_best_dl_pred_f]))\n",
    "print('\\tMale')\n",
    "print('\\t\\tAbs error = {:.3f} +/- {:.3f}'.format(abs_error_dl_m[id_best_dl_pred_m], sd_preds_m[id_best_dl_pred_m]))\n",
    "print('\\t\\tTrue age = {:.3f}'.format(y_true_m[id_best_dl_pred_m]))\n",
    "print('\\t\\tImage file = {:s}'.format(image_files_m[id_best_dl_pred_m]))\n",
    "\n",
    "print('Worst prediction')\n",
    "print('\\tFemale')\n",
    "print('\\t\\tAbs error = {:.2f} +/- {:.2f}'.format(abs_error_dl_f[id_worst_dl_pred_f], sd_preds_f[id_worst_dl_pred_f]))\n",
    "print('\\t\\tTrue age = {:.2f}'.format(y_true_f[id_worst_dl_pred_f]))\n",
    "print('\\t\\tImage file = {:s}'.format(image_files_f[id_worst_dl_pred_f]))\n",
    "print('\\tMale')\n",
    "print('\\t\\tAbs error = {:.2f} +/- {:.2f}'.format(abs_error_dl_m[id_worst_dl_pred_m], sd_preds_m[id_worst_dl_pred_m]))\n",
    "print('\\t\\tTrue age = {:.2f}'.format(y_true_m[id_worst_dl_pred_m]))\n",
    "print('\\t\\tImage file = {:s}'.format(image_files_m[id_worst_dl_pred_m]))"
   ]
  },
  {
   "cell_type": "markdown",
   "id": "47fbb8f6",
   "metadata": {},
   "source": [
    "#### Standard method"
   ]
  },
  {
   "cell_type": "code",
   "execution_count": null,
   "id": "df00d7ec",
   "metadata": {},
   "outputs": [],
   "source": [
    "id_best_kh_pred_m  = np.argmin(abs_error_kh_m)\n",
    "id_best_kh_pred_f  = np.argmin(abs_error_kh_f)\n",
    "id_worst_kh_pred_m = np.argmax(abs_error_kh_m)\n",
    "id_worst_kh_pred_f = np.argmax(abs_error_kh_f)\n",
    "\n",
    "\n",
    "print('Best prediction')\n",
    "print('\\tFemale')\n",
    "print('\\t\\tAbs error = {:.3f}'.format(abs_error_kh_f[id_best_kh_pred_f]))\n",
    "print('\\t\\tTrue age = {:.3f}'.format(y_true_f[id_best_kh_pred_f]))\n",
    "print('\\t\\tImage file = {:s}'.format(image_files_f[id_best_kh_pred_f]))\n",
    "print('\\tMale')\n",
    "print('\\t\\tAbs error = {:.3f}'.format(abs_error_kh_m[id_best_kh_pred_m]))\n",
    "print('\\t\\tTrue age = {:.3f}'.format(y_true_m[id_best_kh_pred_m]))\n",
    "print('\\t\\tImage file = {:s}'.format(image_files_m[id_best_kh_pred_m]))\n",
    "\n",
    "print('Worst prediction')\n",
    "print('\\tFemale')\n",
    "print('\\t\\tAbs error = {:.2f}'.format(abs_error_kh_f[id_worst_kh_pred_f]))\n",
    "print('\\t\\tTrue age = {:.2f}'.format(y_true_f[id_worst_kh_pred_f]))\n",
    "print('\\t\\tImage file = {:s}'.format(image_files_f[id_worst_kh_pred_f]))\n",
    "print('\\tMale')\n",
    "print('\\t\\tAbs error = {:.2f}'.format(abs_error_kh_m[id_worst_kh_pred_m]))\n",
    "print('\\t\\tTrue age = {:.2f}'.format(y_true_m[id_worst_kh_pred_m]))\n",
    "print('\\t\\tImage file = {:s}'.format(image_files_m[id_worst_kh_pred_m]))"
   ]
  },
  {
   "cell_type": "markdown",
   "id": "a80c2336",
   "metadata": {},
   "source": [
    "### Binned performance"
   ]
  },
  {
   "cell_type": "code",
   "execution_count": null,
   "id": "308f98a0",
   "metadata": {},
   "outputs": [],
   "source": [
    "# Set bins\n",
    "bins = np.linspace(15, 30, num=16)\n",
    "bins"
   ]
  },
  {
   "cell_type": "code",
   "execution_count": null,
   "id": "026288f1",
   "metadata": {},
   "outputs": [],
   "source": [
    "def analysis(y_true, abs_error_dl, abs_error_kh, bins, dec=2):\n",
    "    bin_inds   = np.digitize(y_true_m, bins, right=False)\n",
    "\n",
    "    # Bin age (sanity check)\n",
    "    age_binned = [y_true[bin_inds==i] for i in np.unique(bin_inds)]\n",
    "\n",
    "    # Bin deep learning results\n",
    "    ens_ae_binned = [abs_error_dl[bin_inds==i] for i in np.unique(bin_inds)]\n",
    "\n",
    "    # Bin Kellinghaus results\n",
    "    kh_ae_binned = [abs_error_kh[bin_inds==i] for i in np.unique(bin_inds)]\n",
    "\n",
    "    # Mean AE\n",
    "    mean_ae_dl = [np.round(np.mean(x), decimals=dec) for x in ens_ae_binned]\n",
    "    mean_ae_kh = [np.round(np.mean(x), decimals=dec) for x in kh_ae_binned]\n",
    "\n",
    "    # Max AE\n",
    "    max_ae_dl = [np.round(np.max(x), decimals=dec) for x in ens_ae_binned]\n",
    "    max_ae_kh = [np.round(np.max(x), decimals=dec) for x in kh_ae_binned]\n",
    "\n",
    "    # p90 AE\n",
    "    p90_ae_dl = [np.round(np.percentile(x, q=90), decimals=dec) for x in ens_ae_binned]\n",
    "    p90_ae_kh = [np.round(np.percentile(x, q=90), decimals=dec) for x in kh_ae_binned]\n",
    "\n",
    "    # Build dataframe\n",
    "    age_column      = ['{:.1f}-{:.1f}'.format(float(bins[x]), float(bins[x+1])) for x in range(len(bins)-1)]\n",
    "    columns_per_age = ['age', 'mae_dl', 'max_dl', 'p90_dl', 'mae_kh', 'max_kh', 'p90_kh']\n",
    "    data_per_age    = np.array([age_column, mean_ae_dl, max_ae_dl, p90_ae_dl, mean_ae_kh, max_ae_kh, p90_ae_kh]).swapaxes(0,1)\n",
    "\n",
    "    df_results_per_age = pd.DataFrame(data=data_per_age, columns=columns_per_age)\n",
    "    \n",
    "    return df_results_per_age"
   ]
  },
  {
   "cell_type": "code",
   "execution_count": null,
   "id": "f6a4e736",
   "metadata": {},
   "outputs": [],
   "source": [
    "df_results_per_age_m = analysis(y_true_m, abs_error_dl_m, abs_error_kh_m, bins)\n",
    "df_results_per_age_m.to_csv('../results/test_set/results_per_age_m.csv', index=False)\n",
    "df_results_per_age_m"
   ]
  },
  {
   "cell_type": "code",
   "execution_count": null,
   "id": "d88ed966",
   "metadata": {},
   "outputs": [],
   "source": [
    "df_results_per_age_f = analysis(y_true_f, abs_error_dl_f, abs_error_kh_f, bins)\n",
    "df_results_per_age_f.to_csv('../results/test_set/results_per_age_f.csv', index=False)\n",
    "df_results_per_age_f"
   ]
  },
  {
   "cell_type": "markdown",
   "id": "229380bd",
   "metadata": {},
   "source": [
    "### Outlier Performance"
   ]
  },
  {
   "cell_type": "code",
   "execution_count": null,
   "id": "bbc86e26",
   "metadata": {},
   "outputs": [],
   "source": [
    "abstention_rate = 0.5"
   ]
  },
  {
   "cell_type": "code",
   "execution_count": null,
   "id": "85e99714",
   "metadata": {},
   "outputs": [],
   "source": [
    "# Idenfity samples wiht low uncertainty\n",
    "ref_unc_val = np.percentile(uncertainty, q=(1-abstention_rate)*100)\n",
    "\n",
    "# Select low uncertainty samples\n",
    "y_true_lu       = y_true[uncertainty<ref_unc_val]\n",
    "abs_error_dl_lu = abs_error_dl[uncertainty<ref_unc_val]\n",
    "sex_lu          = sex[uncertainty<ref_unc_val]\n",
    "uncertainty_lu  = uncertainty[uncertainty<ref_unc_val]\n",
    "\n",
    "# Separate by sex\n",
    "y_true_m_lu       = y_true_lu[sex_lu==0.0]\n",
    "y_true_f_lu       = y_true_lu[sex_lu==1.0]\n",
    "abs_error_dl_m_lu = abs_error_dl_lu[sex_lu==0.0]\n",
    "abs_error_dl_f_lu = abs_error_dl_lu[sex_lu==1.0]\n",
    "uncertainty_m_lu  = uncertainty_lu[sex_lu==0.0]\n",
    "uncertainty_f_lu  = uncertainty_lu[sex_lu==1.0]"
   ]
  },
  {
   "cell_type": "code",
   "execution_count": null,
   "id": "e5cecb5b",
   "metadata": {},
   "outputs": [],
   "source": [
    "# Deep learning\n",
    "mae_dl_lu    = np.mean(abs_error_dl_lu)\n",
    "mae_sd_dl_lu = np.std(abs_error_dl_lu)\n",
    "max_ae_dl_lu = np.max(abs_error_dl_lu)\n",
    "p90_ae_dl_lu = np.percentile(abs_error_dl_lu, q=90.0)\n",
    "\n",
    "# Deep learning - male / female\n",
    "mae_dl_male_lu      = np.mean(abs_error_dl_m_lu)\n",
    "mae_dl_female_lu    = np.mean(abs_error_dl_f_lu)\n",
    "mae_sd_dl_male_lu   = np.std(abs_error_dl_m_lu)\n",
    "mae_sd_dl_female_lu = np.std(abs_error_dl_f_lu)\n",
    "max_ae_dl_male_lu   = np.max(abs_error_dl_m_lu)\n",
    "max_ae_dl_female_lu = np.max(abs_error_dl_f_lu)\n",
    "p90_ae_dl_male_lu   = np.percentile(abs_error_dl_m_lu, q=90)\n",
    "p90_ae_dl_female_lu = np.percentile(abs_error_dl_f_lu, q=90)"
   ]
  },
  {
   "cell_type": "code",
   "execution_count": null,
   "id": "1262a5c4",
   "metadata": {},
   "outputs": [],
   "source": [
    "print('Deep Learning:')\n",
    "print('\\tMAE = {:.2f} +/- {:.2f}'.format(mae_dl_lu, mae_sd_dl_lu))\n",
    "print('\\t\\tmale   = {:.2f} +/- {:.2f}'.format(mae_dl_male_lu, mae_sd_dl_male_lu))\n",
    "print('\\t\\tfemale = {:.2f} +/- {:.2f}'.format(mae_dl_female_lu, mae_sd_dl_female_lu))\n",
    "print('\\tmax error = {:.2f}'.format(max_ae_dl_lu))\n",
    "print('\\t\\tmale   = {:.2f}'.format(max_ae_dl_male_lu))\n",
    "print('\\t\\tfemale = {:.2f}'.format(max_ae_dl_female_lu))\n",
    "print('\\tp90 error = {:.2f}'.format(p90_ae_dl_lu))\n",
    "print('\\t\\tmale   = {:.2f}'.format(p90_ae_dl_male_lu))\n",
    "print('\\t\\tfemale = {:.2f}'.format(p90_ae_dl_female_lu))"
   ]
  }
 ],
 "metadata": {
  "kernelspec": {
   "display_name": "Python 3",
   "language": "python",
   "name": "python3"
  },
  "language_info": {
   "codemirror_mode": {
    "name": "ipython",
    "version": 3
   },
   "file_extension": ".py",
   "mimetype": "text/x-python",
   "name": "python",
   "nbconvert_exporter": "python",
   "pygments_lexer": "ipython3",
   "version": "3.8.10"
  },
  "vscode": {
   "interpreter": {
    "hash": "916dbcbb3f70747c44a77c7bcd40155683ae19c65e1c03b4aa3499c5328201f1"
   }
  }
 },
 "nbformat": 4,
 "nbformat_minor": 5
}
