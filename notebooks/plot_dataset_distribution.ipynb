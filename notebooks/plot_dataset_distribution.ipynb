{
 "cells": [
  {
   "cell_type": "code",
   "execution_count": null,
   "id": "171a4cc4-0e67-4e98-882b-dca07fa46d89",
   "metadata": {},
   "outputs": [],
   "source": [
    "import matplotlib.pyplot as plt\n",
    "import numpy as np\n",
    "import pandas as pd\n",
    "import seaborn as sns"
   ]
  },
  {
   "cell_type": "code",
   "execution_count": null,
   "id": "3a434273-1020-4f34-8090-68556491b92d",
   "metadata": {},
   "outputs": [],
   "source": [
    "ANNOTATIONS_TRAIN_CSV = '../metadata/annotations_train.csv'"
   ]
  },
  {
   "cell_type": "code",
   "execution_count": null,
   "id": "e2fdf18d-3a6d-408b-a999-7490b587291d",
   "metadata": {},
   "outputs": [],
   "source": [
    "df_annots              = pd.read_csv(ANNOTATIONS_TRAIN_CSV)\n",
    "df_annots['age_years'] = df_annots['age'].to_numpy() / 365.25\n",
    "df_annots"
   ]
  },
  {
   "cell_type": "code",
   "execution_count": null,
   "id": "4d548c6c",
   "metadata": {},
   "outputs": [],
   "source": [
    "age = df_annots['age_years'].to_numpy()\n",
    "sex = df_annots['sex'].to_numpy()\n",
    "\n",
    "age_m = age[sex=='M']\n",
    "age_f = age[sex=='F']"
   ]
  },
  {
   "cell_type": "code",
   "execution_count": null,
   "id": "51c3aba4-23af-4d38-929a-337bf87a51b8",
   "metadata": {},
   "outputs": [],
   "source": [
    "bins = np.linspace(start=15.0, stop=30.0, num=16, endpoint=True, dtype=np.int32)"
   ]
  },
  {
   "cell_type": "code",
   "execution_count": null,
   "id": "668974a9-61dc-488f-a80b-0c094ff1f879",
   "metadata": {},
   "outputs": [],
   "source": [
    "fig, ax = plt.subplots(1, 2, figsize=(20,10))\n",
    "\n",
    "ax[0].hist(age, bins=bins, lw=1.5, color='lightgray', edgecolor='k')\n",
    "ax[0].set_ylim(0,360)\n",
    "ax[0].tick_params(labelsize=16, size=4)\n",
    "ax[0].set_xlabel('age / (years)', fontsize=16)\n",
    "ax[0].set_ylabel('count', fontsize=16)\n",
    "ax[0].set_title('female and male combined', fontsize=18)\n",
    "\n",
    "ax[1].hist([age_f, age_m], bins=bins, lw=1.5, color=['#8fb39f', '#f9f1cb'], edgecolor='k', label=['female', 'male'])\n",
    "ax[1].set_ylim(0,360)\n",
    "ax[1].tick_params(labelsize=16, size=4)\n",
    "ax[1].set_xlabel('age / (years)', fontsize=16)\n",
    "ax[1].set_ylabel('count', fontsize=16)\n",
    "ax[1].set_title('female and male side by side', fontsize=18)\n",
    "ax[1].legend(fontsize=16)\n",
    "\n",
    "plt.savefig('../results/plots/data_distribution_train_set.png', facecolor='white', bbox_inches='tight', dpi=600)\n",
    "plt.show()"
   ]
  },
  {
   "cell_type": "code",
   "execution_count": null,
   "id": "7f6ce43c-5c80-4b18-88bc-3dbf9a878989",
   "metadata": {},
   "outputs": [],
   "source": [
    "df_annots['age_bin'] = np.digitize(df_annots['age_years'].to_numpy(), bins)\n",
    "df_annots"
   ]
  },
  {
   "cell_type": "code",
   "execution_count": null,
   "id": "1bf84c33-2dff-4ca9-a078-45e969828cf1",
   "metadata": {},
   "outputs": [],
   "source": [
    "_, counts         = np.unique(df_annots['age_bin'].to_numpy(), return_counts=True)\n",
    "n_samples_per_bin = int(np.max(counts)/2.0)\n",
    "n_samples_per_bin"
   ]
  },
  {
   "cell_type": "code",
   "execution_count": null,
   "id": "db1e0acc-1d1b-4664-a8fb-a9ae548badd5",
   "metadata": {},
   "outputs": [],
   "source": [
    "df_flat = df_annots.groupby(['age_bin', 'sex']).apply(lambda x: x.sample(n_samples_per_bin, replace = True)).reset_index(drop = True)\n",
    "df_flat"
   ]
  },
  {
   "cell_type": "code",
   "execution_count": null,
   "id": "f4b344da",
   "metadata": {},
   "outputs": [],
   "source": [
    "age_flat = df_flat['age_years'].to_numpy()\n",
    "sex_flat = df_flat['sex'].to_numpy()\n",
    "\n",
    "age_flat_m = age_flat[sex_flat=='M']\n",
    "age_flat_f = age_flat[sex_flat=='F']"
   ]
  },
  {
   "cell_type": "code",
   "execution_count": null,
   "id": "983836bc-5560-496a-89ba-a5b49b7497cd",
   "metadata": {},
   "outputs": [],
   "source": [
    "fig, ax = plt.subplots(1, 2, figsize=(20,10))\n",
    "\n",
    "ax[0].hist(age_flat, bins=bins, lw=1.5, color='lightgray', edgecolor='k')\n",
    "ax[0].set_ylim(0,360)\n",
    "ax[0].tick_params(labelsize=16, size=4)\n",
    "ax[0].set_xlabel('age / (years)', fontsize=16)\n",
    "ax[0].set_ylabel('count', fontsize=16)\n",
    "ax[0].set_title('female and male combined', fontsize=18)\n",
    "\n",
    "ax[1].hist([age_flat_f, age_flat_m], bins=bins, lw=1.5, color=['#8fb39f', '#f9f1cb'], edgecolor='k', label=['female', 'male'])\n",
    "ax[1].set_ylim(0,360)\n",
    "ax[1].tick_params(labelsize=16, size=4)\n",
    "ax[1].set_xlabel('age / (years)', fontsize=16)\n",
    "ax[1].set_ylabel('count', fontsize=16)\n",
    "ax[1].set_title('female and male side by side', fontsize=18)\n",
    "ax[1].legend(fontsize=16)\n",
    "\n",
    "plt.savefig('../results/plots/data_distribution_train_set_flat.png', facecolor='white', bbox_inches='tight', dpi=600)\n",
    "plt.show()"
   ]
  }
 ],
 "metadata": {
  "kernelspec": {
   "display_name": "Python 3",
   "language": "python",
   "name": "python3"
  },
  "language_info": {
   "codemirror_mode": {
    "name": "ipython",
    "version": 3
   },
   "file_extension": ".py",
   "mimetype": "text/x-python",
   "name": "python",
   "nbconvert_exporter": "python",
   "pygments_lexer": "ipython3",
   "version": "3.8.10"
  },
  "vscode": {
   "interpreter": {
    "hash": "916dbcbb3f70747c44a77c7bcd40155683ae19c65e1c03b4aa3499c5328201f1"
   }
  }
 },
 "nbformat": 4,
 "nbformat_minor": 5
}
